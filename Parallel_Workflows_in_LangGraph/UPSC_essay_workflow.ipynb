{
  "cells": [
    {
      "cell_type": "markdown",
      "metadata": {
        "id": "view-in-github",
        "colab_type": "text"
      },
      "source": [
        "<a href=\"https://colab.research.google.com/github/Saifullah785/Agentic_AI_LangGraph_Learning_Journey/blob/main/Parallel_Workflows_in_LangGraph/UPSC_essay_workflow.ipynb\" target=\"_parent\"><img src=\"https://colab.research.google.com/assets/colab-badge.svg\" alt=\"Open In Colab\"/></a>"
      ]
    },
    {
      "cell_type": "code",
      "source": [
        "# ! pip install langchain_openai\n",
        "# ! pip install langgraph"
      ],
      "metadata": {
        "id": "LDaEZ1n2O2eS"
      },
      "id": "LDaEZ1n2O2eS",
      "execution_count": 4,
      "outputs": []
    },
    {
      "cell_type": "code",
      "execution_count": 5,
      "id": "b004fa30",
      "metadata": {
        "id": "b004fa30"
      },
      "outputs": [],
      "source": [
        "# Import necessary libraries\n",
        "from langgraph.graph import StateGraph, START, END\n",
        "from langchain_openai import ChatOpenAI\n",
        "from dotenv import load_dotenv\n",
        "from typing import TypedDict, Annotated\n",
        "from pydantic import BaseModel, Field\n",
        "import operator"
      ]
    },
    {
      "cell_type": "code",
      "source": [
        "from google.colab import userdata\n",
        "OPENAI_API_KEY= userdata.get('OPENAI_API_KEY')\n"
      ],
      "metadata": {
        "id": "qhmxHuH_N5_B"
      },
      "id": "qhmxHuH_N5_B",
      "execution_count": 6,
      "outputs": []
    },
    {
      "cell_type": "code",
      "execution_count": 7,
      "id": "4b5a9bd7",
      "metadata": {
        "id": "4b5a9bd7"
      },
      "outputs": [],
      "source": [
        "# Load environment variables\n",
        "\n",
        "#load_dotenv()"
      ]
    },
    {
      "cell_type": "code",
      "execution_count": 8,
      "id": "52887b12",
      "metadata": {
        "id": "52887b12"
      },
      "outputs": [],
      "source": [
        "# Initialize the ChatOpenAI model\n",
        "model = ChatOpenAI(openai_api_key=OPENAI_API_KEY)"
      ]
    },
    {
      "cell_type": "code",
      "execution_count": 9,
      "id": "e093675a",
      "metadata": {
        "id": "e093675a"
      },
      "outputs": [],
      "source": [
        "# Define the Pydantic schema for evaluation\n",
        "class EvaluationSchema(BaseModel):\n",
        "\n",
        "    feedback: str = Field(description='Detailed feedbackfor the essay')\n",
        "    score: int = Field(description='Score out of 10', ge=0, le=10)"
      ]
    },
    {
      "cell_type": "code",
      "execution_count": 10,
      "id": "34888c96",
      "metadata": {
        "colab": {
          "base_uri": "https://localhost:8080/"
        },
        "id": "34888c96",
        "outputId": "a1f4bfb1-b688-4106-c9ed-cd7709b147f7"
      },
      "outputs": [
        {
          "output_type": "stream",
          "name": "stderr",
          "text": [
            "/usr/local/lib/python3.12/dist-packages/langchain_openai/chat_models/base.py:1913: UserWarning: Cannot use method='json_schema' with model gpt-3.5-turbo since it doesn't support OpenAI's Structured Output API. You can see supported models here: https://platform.openai.com/docs/guides/structured-outputs#supported-models. To fix this warning, set `method='function_calling'. Overriding to method='function_calling'.\n",
            "  warnings.warn(\n"
          ]
        }
      ],
      "source": [
        "# Structure the model output using the defined schema\n",
        "structured_model = model.with_structured_output(EvaluationSchema)"
      ]
    },
    {
      "cell_type": "code",
      "execution_count": 11,
      "id": "0d845e29",
      "metadata": {
        "id": "0d845e29"
      },
      "outputs": [],
      "source": [
        "# Define the first essay for evaluation\n",
        "essay = \"\"\"India in the Age of AI\n",
        "as the world enters a transformative era defined by artificial intelligence (AI), India stands at a critical juncture — one where it can either emerge as a global leader in AI innovation or risk falling behind in the technology race. The age of AI brings with it immense promise as well as unprecedented challenges, and how India navigates this landscape will shape its socio-economic and geopolitical future.\n",
        "\n",
        "india's strengths in the AI domain are rooted in its vast pool of skilled engineers, a thriving IT industry, and a growing startup ecosystem. with over 5 million STEM graduates annually and a burgeoning base of AI researchers, India possesses the intellectual capital required to build cutting-edge AI systems. Institutions like IITs, IIITs, and IISc have begun fostering AI research, while private players such as TCS, Infosys, and Wipro are integrating AI into their global services. In 2020, the government launched the National AI Strategy (AI for All) with a focus on inclusive growth, aiming to leverage AI in healthcare, agriculture, education, and smart mobility.\n",
        "\n",
        "one of the most promising applications of AI in India lies in agriculture, where predictive analytics can guide farmers on optimal sowing times, weather forecasts, and pest control. In healthcare, AI-powered diagnostics can help address India’s doctor-patient ratio crisis, particularly in rural areas. Educational platforms are increasingly using AI to personalize learning paths, while smart governance tools are helping improve public service delivery and fraud detection.\n",
        "\n",
        "However, the path to AI-led growth is riddled with challenges. Chief among them is the digital divide. While metropolitan cities may embrace AI-driven solutions, rural India continues to struggle with basic internet access and digital literacy. The risk of job displacement due to automation also looms large, especially for low-skilled workers. Without effective skilling and re-skilling programs, AI could exacerbate existing socio-economic inequalities.\n",
        "\n",
        "Another pressing concern is data privacy and ethics. as AI systems rely heavily on vast datasets, ensuring that personal data is used transparently and responsibly becomes vital. India is still shaping its data protection laws, and in the absence of a strong regulatory framework, AI systems may risk misuse or bias.\n",
        "\n",
        "to harness AI responsibly, India must adopt a multi-stakeholder approach involving the government, academia, industry, and civil society. Policies should promote open datasets, encourage responsible innovation, and ensure ethical AI practices. There is also a need for international collaboration, particularly with countries leading in AI research, to gain strategic advantage and ensure interoperability in global systems.\n",
        "\n",
        "India’s demographic dividend, when paired with responsible AI adoption, can unlock massive economic growth, improve governance, and uplift marginalized communities. But this vision will only materialize if AI is seen not merely as a tool for automation, but as an enabler of human-centered development.\n",
        "\n",
        "In conclusion, India in the age of AI is a story in the making — one of opportunity, responsibility, and transformation. The decisions we make today will not just determine India’s AI trajectory, but also its future as an inclusive, equitable, and innovation-driven society.\"\"\""
      ]
    },
    {
      "cell_type": "code",
      "execution_count": 12,
      "id": "5aa1b40e",
      "metadata": {
        "colab": {
          "base_uri": "https://localhost:8080/",
          "height": 70
        },
        "id": "5aa1b40e",
        "outputId": "03d55136-76a8-4de3-b5a0-97bc5e133656"
      },
      "outputs": [
        {
          "output_type": "execute_result",
          "data": {
            "text/plain": [
              "\"The essay on 'India in the Age of AI' provides a comprehensive overview of the opportunities and challenges presented by artificial intelligence in India. The language used is clear and coherent, effectively conveying the key points. The essay is well-structured with a logical flow of ideas. However, there are some minor grammatical errors and improvements can be made in transitioning between paragraphs for smoother readability. Overall, the content is informative and engaging, showcasing a good understanding of the topic.\""
            ],
            "application/vnd.google.colaboratory.intrinsic+json": {
              "type": "string"
            }
          },
          "metadata": {},
          "execution_count": 12
        }
      ],
      "source": [
        "# Evaluate the language quality of the first essay\n",
        "prompt = f'Evaluate the language quality of the following essay and provide a feedback and assign a score out of 10 \\n {essay}'\n",
        "structured_model.invoke(prompt).feedback"
      ]
    },
    {
      "cell_type": "code",
      "execution_count": 13,
      "id": "41e09ee0",
      "metadata": {
        "id": "41e09ee0"
      },
      "outputs": [],
      "source": [
        "# Define the state for the UPSC evaluation graph\n",
        "class UPSCState(TypedDict):\n",
        "\n",
        "    essay: str\n",
        "    language_feedback: str\n",
        "    analysis_feedback: str\n",
        "    clarity_feedback: str\n",
        "    overall_feedback: str\n",
        "    individual_scores: Annotated[list[int], operator.add]\n",
        "    avg_score: float"
      ]
    },
    {
      "cell_type": "code",
      "execution_count": 14,
      "id": "7bf5c400",
      "metadata": {
        "id": "7bf5c400"
      },
      "outputs": [],
      "source": [
        "# Node function to evaluate language quality\n",
        "def evaluate_language(state: UPSCState):\n",
        "\n",
        "    prompt = f'Evaluate the language quality of the following essay and provide a feedback and assign a score out of 10 \\n {state[\"essay\"]}'\n",
        "    output = structured_model.invoke(prompt)\n",
        "\n",
        "    return {'language_feedback': output.feedback, 'individual_scores': [output.score]}"
      ]
    },
    {
      "cell_type": "code",
      "execution_count": 15,
      "id": "60295fc1",
      "metadata": {
        "id": "60295fc1"
      },
      "outputs": [],
      "source": [
        "# Node function to evaluate depth of analysis\n",
        "def evaluate_analysis(state: UPSCState):\n",
        "\n",
        "    prompt = f'Evaluate the depth of analysis of the following essay and provide a feedback and assign a score out of 10 \\n {state[\"essay\"]}'\n",
        "    output = structured_model.invoke(prompt)\n",
        "\n",
        "    return {'analysis_feedback': output.feedback, 'individual_scores': [output.score]}"
      ]
    },
    {
      "cell_type": "code",
      "execution_count": 16,
      "id": "75a42f68",
      "metadata": {
        "id": "75a42f68"
      },
      "outputs": [],
      "source": [
        "# Node function to evaluate clarity of thought\n",
        "def evaluate_thought(state: UPSCState):\n",
        "\n",
        "    prompt = f'Evaluate the clarity of thought of the following essay and provide a feedback and assign a score out of 10 \\n {state[\"essay\"]}'\n",
        "    output = structured_model.invoke(prompt)\n",
        "\n",
        "    return {'clarity_feedback': output.feedback, 'individual_scores': [output.score]}"
      ]
    },
    {
      "cell_type": "code",
      "execution_count": 17,
      "id": "b801b7ff",
      "metadata": {
        "id": "b801b7ff"
      },
      "outputs": [],
      "source": [
        "# Node function for final evaluation and score calculation\n",
        "def final_evaluation(state: UPSCState):\n",
        "\n",
        "    # summary feedback\n",
        "    prompt = f'Based on the following feedbacks create a summarized feedback \\n language feedback - {state[\"language_feedback\"]} \\n depth of analysis feedback - {state[\"analysis_feedback\"]} \\n clarity of thought feedback - {state[\"clarity_feedback\"]}'\n",
        "    overall_feedback = model.invoke(prompt).content\n",
        "\n",
        "    # avg calculate\n",
        "    avg_score = sum(state['individual_scores'])/len(state['individual_scores'])\n",
        "\n",
        "    return {'overall_feedback': overall_feedback, 'avg_score': avg_score}"
      ]
    },
    {
      "cell_type": "code",
      "execution_count": 18,
      "id": "9a1abb99",
      "metadata": {
        "id": "9a1abb99"
      },
      "outputs": [],
      "source": [
        "# Define and compile the StateGraph for the evaluation workflow\n",
        "graph = StateGraph(UPSCState)\n",
        "\n",
        "graph.add_node('evaluate_language', evaluate_language)\n",
        "graph.add_node('evaluate_analysis', evaluate_analysis)\n",
        "graph.add_node('evaluate_thought', evaluate_thought)\n",
        "graph.add_node('final_evaluation', final_evaluation)\n",
        "\n",
        "# edges\n",
        "graph.add_edge(START, 'evaluate_language')\n",
        "graph.add_edge(START, 'evaluate_analysis')\n",
        "graph.add_edge(START, 'evaluate_thought')\n",
        "\n",
        "graph.add_edge('evaluate_language', 'final_evaluation')\n",
        "graph.add_edge('evaluate_analysis', 'final_evaluation')\n",
        "graph.add_edge('evaluate_thought', 'final_evaluation')\n",
        "\n",
        "graph.add_edge('final_evaluation', END)\n",
        "\n",
        "workflow = graph.compile()"
      ]
    },
    {
      "cell_type": "code",
      "execution_count": 19,
      "id": "71397dc3",
      "metadata": {
        "colab": {
          "base_uri": "https://localhost:8080/",
          "height": 350
        },
        "id": "71397dc3",
        "outputId": "120a2ad3-bacb-4d89-ded5-064a904ca1d1"
      },
      "outputs": [
        {
          "output_type": "execute_result",
          "data": {
            "text/plain": [
              "<langgraph.graph.state.CompiledStateGraph object at 0x783f4d908e60>"
            ],
            "image/png": "[encoded data removed]"
          },
          "metadata": {},
          "execution_count": 19
        }
      ],
      "source": [
        "# Display the compiled workflow\n",
        "workflow"
      ]
    },
    {
      "cell_type": "code",
      "execution_count": 20,
      "id": "2911803e",
      "metadata": {
        "id": "2911803e"
      },
      "outputs": [],
      "source": [
        "# Define the second essay for evaluation\n",
        "essay2 = \"\"\"Pakistan, AI Technology, and Military Comparison with the United States\n",
        "\n",
        "Artificial Intelligence (AI) has become a defining force of the 21st century, influencing economies, societies, and defense strategies. Pakistan, though a developing country, is gradually making progress in AI, while the United States remains the world leader in research, adoption, and military integration.\n",
        "\n",
        "Pakistan has contributed to AI by establishing the National Centre of Artificial Intelligence (NCAI), encouraging research in robotics, computer vision, and natural language processing. Universities such as NUST, FAST, and LUMS are producing talent that applies AI in healthcare, agriculture, and fintech. The government’s National AI Policy Framework also aims to create an AI-ready workforce. Although Pakistan’s contribution is modest compared to global leaders, its focus on human capital and sector-specific applications reflects steady progress.\n",
        "\n",
        "In contrast, the United States dominates AI research and commercialization through institutions like MIT and Stanford, alongside global tech giants such as Google and Microsoft. AI tools such as TensorFlow and PyTorch, widely used in Pakistan, are American innovations. Thus, while the U.S. integrates AI into everyday industries at scale, Pakistan primarily adopts U.S. and Chinese frameworks to build its foundation.\n",
        "\n",
        "The most significant contrast appears in military adoption. The U.S. employs AI in projects like Project Maven and the Skyborg program, developing autonomous drones, missile defense systems, and predictive battlefield intelligence. AI enhances real-time decision-making and ensures air superiority. Pakistan, meanwhile, incorporates AI into radar systems, surveillance, and UAVs, largely through collaborations with China, such as acquiring AI-enabled drones. Its progress is promising but limited by smaller budgets and reliance on foreign technology.\n",
        "\n",
        "In conclusion, Pakistan is laying the groundwork for AI integration, while the United States represents technological leadership. Bridging this gap requires Pakistan to expand indigenous research, defense investment, and international collaboration to secure its economic and strategic future.\"\"\""
      ]
    },
    {
      "cell_type": "code",
      "execution_count": 21,
      "id": "a52e08c6",
      "metadata": {
        "colab": {
          "base_uri": "https://localhost:8080/"
        },
        "id": "a52e08c6",
        "outputId": "f665c311-c46a-416a-e8bd-a82c8d784b4e"
      },
      "outputs": [
        {
          "output_type": "execute_result",
          "data": {
            "text/plain": [
              "{'essay': 'Pakistan, AI Technology, and Military Comparison with the United States\\n\\nArtificial Intelligence (AI) has become a defining force of the 21st century, influencing economies, societies, and defense strategies. Pakistan, though a developing country, is gradually making progress in AI, while the United States remains the world leader in research, adoption, and military integration.\\n\\nPakistan has contributed to AI by establishing the National Centre of Artificial Intelligence (NCAI), encouraging research in robotics, computer vision, and natural language processing. Universities such as NUST, FAST, and LUMS are producing talent that applies AI in healthcare, agriculture, and fintech. The government’s National AI Policy Framework also aims to create an AI-ready workforce. Although Pakistan’s contribution is modest compared to global leaders, its focus on human capital and sector-specific applications reflects steady progress.\\n\\nIn contrast, the United States dominates AI research and commercialization through institutions like MIT and Stanford, alongside global tech giants such as Google and Microsoft. AI tools such as TensorFlow and PyTorch, widely used in Pakistan, are American innovations. Thus, while the U.S. integrates AI into everyday industries at scale, Pakistan primarily adopts U.S. and Chinese frameworks to build its foundation.\\n\\nThe most significant contrast appears in military adoption. The U.S. employs AI in projects like Project Maven and the Skyborg program, developing autonomous drones, missile defense systems, and predictive battlefield intelligence. AI enhances real-time decision-making and ensures air superiority. Pakistan, meanwhile, incorporates AI into radar systems, surveillance, and UAVs, largely through collaborations with China, such as acquiring AI-enabled drones. Its progress is promising but limited by smaller budgets and reliance on foreign technology.\\n\\nIn conclusion, Pakistan is laying the groundwork for AI integration, while the United States represents technological leadership. Bridging this gap requires Pakistan to expand indigenous research, defense investment, and international collaboration to secure its economic and strategic future.',\n",
              " 'language_feedback': 'The essay provides a comprehensive comparison between Pakistan and the United States in terms of AI technology and military usage. The language used is clear and the content is well-structured, with appropriate examples and comparisons. However, there are a few areas where the language could be more concise and some sentences could be rephrased for better readability. Overall, a strong analysis but slight improvement in language quality is recommended.',\n",
              " 'analysis_feedback': 'The essay provides a detailed comparison between Pakistan and the United States in terms of AI technology and its military applications. It explores the contributions of both countries, the sectors where AI is being applied, and the level of advancement in research and integration. The analysis is informative and well-supported with examples. However, the essay could benefit from further elaboration on the challenges and opportunities faced by both countries in the AI domain. Overall, a solid analysis with room for deeper exploration.',\n",
              " 'clarity_feedback': \"The essay provides a clear and insightful comparison between Pakistan and the United States in terms of AI technology and military adoption. The arguments are well-structured and supported with relevant examples. However, there could be more in-depth analysis on the potential implications of the AI advancements on the respective countries' economies and defense capabilities.\",\n",
              " 'overall_feedback': 'Summarized feedback: The essay offers a comprehensive comparison between Pakistan and the United States regarding AI technology and military usage. The language is clear and well-structured, with room for improvement in conciseness and readability. The analysis delves into the contributions, sectors of application, and advancements in research and integration, but could benefit from further exploration of challenges and opportunities. Overall, the essay presents a clear and insightful analysis with potential for deeper examination of the implications of AI advancements on the economies and defense capabilities of both countries.',\n",
              " 'individual_scores': [8, 8, 8],\n",
              " 'avg_score': 8.0}"
            ]
          },
          "metadata": {},
          "execution_count": 21
        }
      ],
      "source": [
        "# Invoke the workflow with the second essay\n",
        "intial_state = {\n",
        "    'essay': essay2\n",
        "}\n",
        "\n",
        "workflow.invoke(intial_state)"
      ]
    }
  ],
  "metadata": {
    "kernelspec": {
      "display_name": ".venv (3.13.6)",
      "language": "python",
      "name": "python3"
    },
    "language_info": {
      "codemirror_mode": {
        "name": "ipython",
        "version": 3
      },
      "file_extension": ".py",
      "mimetype": "text/x-python",
      "name": "python",
      "nbconvert_exporter": "python",
      "pygments_lexer": "ipython3",
      "version": "3.13.6"
    },
    "colab": {
      "provenance": [],
      "include_colab_link": true
    }
  },
  "nbformat": 4,
  "nbformat_minor": 5
}