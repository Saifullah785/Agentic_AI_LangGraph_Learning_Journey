{
 "cells": [
  {
   "cell_type": "code",
   "execution_count": 1,
   "id": "38e61181",
   "metadata": {},
   "outputs": [],
   "source": [
    "from langgraph.graph import StateGraph, START, END\n",
    "from typing import TypedDict\n",
    "from langchain_openai import ChatOpenAI\n",
    "from dotenv import load_dotenv\n",
    "from langgraph.checkpoint.memory import InMemorySaver"
   ]
  },
  {
   "cell_type": "code",
   "execution_count": 2,
   "id": "ebffbc3a",
   "metadata": {},
   "outputs": [],
   "source": [
    "load_dotenv()  # take environment variables from .env.\n",
    "\n",
    "llm = ChatOpenAI()"
   ]
  },
  {
   "cell_type": "code",
   "execution_count": 3,
   "id": "7acdd04e",
   "metadata": {},
   "outputs": [],
   "source": [
    "class JokeState(TypedDict):\n",
    "    topic: str\n",
    "    joke: str\n",
    "    explanation: str"
   ]
  },
  {
   "cell_type": "code",
   "execution_count": 4,
   "id": "6556678e",
   "metadata": {},
   "outputs": [],
   "source": [
    "def generate_joke(state: JokeState):\n",
    "\n",
    "    prompt = f'generate a joke on the topic of {state[\"topic\"]}'\n",
    "\n",
    "    response = llm.invoke(prompt).content\n",
    "\n",
    "    return {\"joke\": response}"
   ]
  },
  {
   "cell_type": "code",
   "execution_count": 5,
   "id": "07505ecd",
   "metadata": {},
   "outputs": [],
   "source": [
    "def generate_explanation(state: JokeState):\n",
    "\n",
    "    prompt= f'write an explanation for the joke: {state[\"joke\"]}'\n",
    "\n",
    "    response = llm.invoke(prompt).content\n",
    "\n",
    "    return {\"explanation\": response}"
   ]
  },
  {
   "cell_type": "code",
   "execution_count": 6,
   "id": "ca24dec6",
   "metadata": {},
   "outputs": [],
   "source": [
    "graph = StateGraph(JokeState)\n",
    "\n",
    "graph.add_node('generate_joke', generate_joke)\n",
    "graph.add_node('generate_explanation', generate_explanation)\n",
    "\n",
    "graph.add_edge(START, 'generate_joke')\n",
    "graph.add_edge('generate_joke', 'generate_explanation')\n",
    "graph.add_edge('generate_explanation', END)\n",
    "\n",
    "checkpointer = InMemorySaver()\n",
    "\n",
    "workflow = graph.compile(checkpointer=checkpointer)"
   ]
  },
  {
   "cell_type": "code",
   "execution_count": 7,
   "id": "c136ab26",
   "metadata": {},
   "outputs": [
    {
     "data": {
      "text/plain": [
       "{'topic': 'chickens',\n",
       " 'joke': 'Why did the chicken join a band?\\nBecause it had good cluck-tion!',\n",
       " 'explanation': 'The joke plays on the word \"cluck-tion,\" which sounds similar to \"function.\" In this context, the chicken joined a band because it had a good \"cluck-tion\" or function in the band, likely referring to its ability to cluck and potentially add a unique sound or dynamic to the music. It\\'s a play on words that adds humor to the idea of a chicken being a member of a band.'}"
      ]
     },
     "execution_count": 7,
     "metadata": {},
     "output_type": "execute_result"
    }
   ],
   "source": [
    "config1 = {\"configurable\": {'thread_id': '1'}}\n",
    "workflow.invoke({\"topic\": \"chickens\"}, config=config1)"
   ]
  },
  {
   "cell_type": "code",
   "execution_count": 8,
   "id": "c082db73",
   "metadata": {},
   "outputs": [
    {
     "data": {
      "text/plain": [
       "StateSnapshot(values={'topic': 'chickens', 'joke': 'Why did the chicken join a band?\\nBecause it had good cluck-tion!', 'explanation': 'The joke plays on the word \"cluck-tion,\" which sounds similar to \"function.\" In this context, the chicken joined a band because it had a good \"cluck-tion\" or function in the band, likely referring to its ability to cluck and potentially add a unique sound or dynamic to the music. It\\'s a play on words that adds humor to the idea of a chicken being a member of a band.'}, next=(), config={'configurable': {'thread_id': '1', 'checkpoint_ns': '', 'checkpoint_id': '1f0867ae-510c-6f94-8002-66b94d4c8f6c'}}, metadata={'source': 'loop', 'step': 2, 'parents': {}}, created_at='2025-08-31T14:58:03.570152+00:00', parent_config={'configurable': {'thread_id': '1', 'checkpoint_ns': '', 'checkpoint_id': '1f0867ae-3d30-6f5a-8001-fe7abfe68369'}}, tasks=(), interrupts=())"
      ]
     },
     "execution_count": 8,
     "metadata": {},
     "output_type": "execute_result"
    }
   ],
   "source": [
    "workflow.get_state(config1)"
   ]
  },
  {
   "cell_type": "code",
   "execution_count": 9,
   "id": "f7b6fdfe",
   "metadata": {},
   "outputs": [
    {
     "data": {
      "text/plain": [
       "[StateSnapshot(values={'topic': 'chickens', 'joke': 'Why did the chicken join a band?\\nBecause it had good cluck-tion!', 'explanation': 'The joke plays on the word \"cluck-tion,\" which sounds similar to \"function.\" In this context, the chicken joined a band because it had a good \"cluck-tion\" or function in the band, likely referring to its ability to cluck and potentially add a unique sound or dynamic to the music. It\\'s a play on words that adds humor to the idea of a chicken being a member of a band.'}, next=(), config={'configurable': {'thread_id': '1', 'checkpoint_ns': '', 'checkpoint_id': '1f0867ae-510c-6f94-8002-66b94d4c8f6c'}}, metadata={'source': 'loop', 'step': 2, 'parents': {}}, created_at='2025-08-31T14:58:03.570152+00:00', parent_config={'configurable': {'thread_id': '1', 'checkpoint_ns': '', 'checkpoint_id': '1f0867ae-3d30-6f5a-8001-fe7abfe68369'}}, tasks=(), interrupts=()),\n",
       " StateSnapshot(values={'topic': 'chickens', 'joke': 'Why did the chicken join a band?\\nBecause it had good cluck-tion!'}, next=('generate_explanation',), config={'configurable': {'thread_id': '1', 'checkpoint_ns': '', 'checkpoint_id': '1f0867ae-3d30-6f5a-8001-fe7abfe68369'}}, metadata={'source': 'loop', 'step': 1, 'parents': {}}, created_at='2025-08-31T14:58:01.487738+00:00', parent_config={'configurable': {'thread_id': '1', 'checkpoint_ns': '', 'checkpoint_id': '1f0867ae-2974-6e66-8000-913439cff868'}}, tasks=(PregelTask(id='32f7d04d-ab0f-20df-c8ca-98264cb696cc', name='generate_explanation', path=('__pregel_pull', 'generate_explanation'), error=None, interrupts=(), state=None, result={'explanation': 'The joke plays on the word \"cluck-tion,\" which sounds similar to \"function.\" In this context, the chicken joined a band because it had a good \"cluck-tion\" or function in the band, likely referring to its ability to cluck and potentially add a unique sound or dynamic to the music. It\\'s a play on words that adds humor to the idea of a chicken being a member of a band.'}),), interrupts=()),\n",
       " StateSnapshot(values={'topic': 'chickens'}, next=('generate_joke',), config={'configurable': {'thread_id': '1', 'checkpoint_ns': '', 'checkpoint_id': '1f0867ae-2974-6e66-8000-913439cff868'}}, metadata={'source': 'loop', 'step': 0, 'parents': {}}, created_at='2025-08-31T14:57:59.418413+00:00', parent_config={'configurable': {'thread_id': '1', 'checkpoint_ns': '', 'checkpoint_id': '1f0867ae-2972-67fa-bfff-68e4fca56025'}}, tasks=(PregelTask(id='0b259889-104c-ef67-c70c-8ba92b00b9fd', name='generate_joke', path=('__pregel_pull', 'generate_joke'), error=None, interrupts=(), state=None, result={'joke': 'Why did the chicken join a band?\\nBecause it had good cluck-tion!'}),), interrupts=()),\n",
       " StateSnapshot(values={}, next=('__start__',), config={'configurable': {'thread_id': '1', 'checkpoint_ns': '', 'checkpoint_id': '1f0867ae-2972-67fa-bfff-68e4fca56025'}}, metadata={'source': 'input', 'step': -1, 'parents': {}}, created_at='2025-08-31T14:57:59.417436+00:00', parent_config=None, tasks=(PregelTask(id='cf36374c-cbf6-8162-a903-8dc1d87d96b3', name='__start__', path=('__pregel_pull', '__start__'), error=None, interrupts=(), state=None, result={'topic': 'chickens'}),), interrupts=())]"
      ]
     },
     "execution_count": 9,
     "metadata": {},
     "output_type": "execute_result"
    }
   ],
   "source": [
    "list(workflow.get_state_history(config1))"
   ]
  },
  {
   "cell_type": "code",
   "execution_count": 10,
   "id": "2be0ce13",
   "metadata": {},
   "outputs": [
    {
     "data": {
      "text/plain": [
       "{'topic': 'computers',\n",
       " 'joke': 'Why was the computer cold?\\n\\nBecause it left its Windows open!',\n",
       " 'explanation': 'This joke plays on the pun between \"Windows\" (referring to the operating system developed by Microsoft) and \"window\" (an opening in a wall or building that lets in light and air). The joke suggests that the computer was cold because it had its \"Windows\" open, implying that the computer was actually in a physical room with an open window letting in cold air. It is a light-hearted play on words that humorously combines technology and real-world concepts.'}"
      ]
     },
     "execution_count": 10,
     "metadata": {},
     "output_type": "execute_result"
    }
   ],
   "source": [
    "config2 = {'configurable': {'thread_id': '2'}}\n",
    "workflow.invoke({\"topic\": \"computers\"}, config=config2)"
   ]
  },
  {
   "cell_type": "code",
   "execution_count": 11,
   "id": "bab5cc5c",
   "metadata": {},
   "outputs": [
    {
     "data": {
      "text/plain": [
       "StateSnapshot(values={'topic': 'chickens', 'joke': 'Why did the chicken join a band?\\nBecause it had good cluck-tion!', 'explanation': 'The joke plays on the word \"cluck-tion,\" which sounds similar to \"function.\" In this context, the chicken joined a band because it had a good \"cluck-tion\" or function in the band, likely referring to its ability to cluck and potentially add a unique sound or dynamic to the music. It\\'s a play on words that adds humor to the idea of a chicken being a member of a band.'}, next=(), config={'configurable': {'thread_id': '1', 'checkpoint_ns': '', 'checkpoint_id': '1f0867ae-510c-6f94-8002-66b94d4c8f6c'}}, metadata={'source': 'loop', 'step': 2, 'parents': {}}, created_at='2025-08-31T14:58:03.570152+00:00', parent_config={'configurable': {'thread_id': '1', 'checkpoint_ns': '', 'checkpoint_id': '1f0867ae-3d30-6f5a-8001-fe7abfe68369'}}, tasks=(), interrupts=())"
      ]
     },
     "execution_count": 11,
     "metadata": {},
     "output_type": "execute_result"
    }
   ],
   "source": [
    "workflow.get_state(config1)"
   ]
  },
  {
   "cell_type": "code",
   "execution_count": 12,
   "id": "34a5293b",
   "metadata": {},
   "outputs": [
    {
     "data": {
      "text/plain": [
       "[StateSnapshot(values={'topic': 'chickens', 'joke': 'Why did the chicken join a band?\\nBecause it had good cluck-tion!', 'explanation': 'The joke plays on the word \"cluck-tion,\" which sounds similar to \"function.\" In this context, the chicken joined a band because it had a good \"cluck-tion\" or function in the band, likely referring to its ability to cluck and potentially add a unique sound or dynamic to the music. It\\'s a play on words that adds humor to the idea of a chicken being a member of a band.'}, next=(), config={'configurable': {'thread_id': '1', 'checkpoint_ns': '', 'checkpoint_id': '1f0867ae-510c-6f94-8002-66b94d4c8f6c'}}, metadata={'source': 'loop', 'step': 2, 'parents': {}}, created_at='2025-08-31T14:58:03.570152+00:00', parent_config={'configurable': {'thread_id': '1', 'checkpoint_ns': '', 'checkpoint_id': '1f0867ae-3d30-6f5a-8001-fe7abfe68369'}}, tasks=(), interrupts=()),\n",
       " StateSnapshot(values={'topic': 'chickens', 'joke': 'Why did the chicken join a band?\\nBecause it had good cluck-tion!'}, next=('generate_explanation',), config={'configurable': {'thread_id': '1', 'checkpoint_ns': '', 'checkpoint_id': '1f0867ae-3d30-6f5a-8001-fe7abfe68369'}}, metadata={'source': 'loop', 'step': 1, 'parents': {}}, created_at='2025-08-31T14:58:01.487738+00:00', parent_config={'configurable': {'thread_id': '1', 'checkpoint_ns': '', 'checkpoint_id': '1f0867ae-2974-6e66-8000-913439cff868'}}, tasks=(PregelTask(id='32f7d04d-ab0f-20df-c8ca-98264cb696cc', name='generate_explanation', path=('__pregel_pull', 'generate_explanation'), error=None, interrupts=(), state=None, result={'explanation': 'The joke plays on the word \"cluck-tion,\" which sounds similar to \"function.\" In this context, the chicken joined a band because it had a good \"cluck-tion\" or function in the band, likely referring to its ability to cluck and potentially add a unique sound or dynamic to the music. It\\'s a play on words that adds humor to the idea of a chicken being a member of a band.'}),), interrupts=()),\n",
       " StateSnapshot(values={'topic': 'chickens'}, next=('generate_joke',), config={'configurable': {'thread_id': '1', 'checkpoint_ns': '', 'checkpoint_id': '1f0867ae-2974-6e66-8000-913439cff868'}}, metadata={'source': 'loop', 'step': 0, 'parents': {}}, created_at='2025-08-31T14:57:59.418413+00:00', parent_config={'configurable': {'thread_id': '1', 'checkpoint_ns': '', 'checkpoint_id': '1f0867ae-2972-67fa-bfff-68e4fca56025'}}, tasks=(PregelTask(id='0b259889-104c-ef67-c70c-8ba92b00b9fd', name='generate_joke', path=('__pregel_pull', 'generate_joke'), error=None, interrupts=(), state=None, result={'joke': 'Why did the chicken join a band?\\nBecause it had good cluck-tion!'}),), interrupts=()),\n",
       " StateSnapshot(values={}, next=('__start__',), config={'configurable': {'thread_id': '1', 'checkpoint_ns': '', 'checkpoint_id': '1f0867ae-2972-67fa-bfff-68e4fca56025'}}, metadata={'source': 'input', 'step': -1, 'parents': {}}, created_at='2025-08-31T14:57:59.417436+00:00', parent_config=None, tasks=(PregelTask(id='cf36374c-cbf6-8162-a903-8dc1d87d96b3', name='__start__', path=('__pregel_pull', '__start__'), error=None, interrupts=(), state=None, result={'topic': 'chickens'}),), interrupts=())]"
      ]
     },
     "execution_count": 12,
     "metadata": {},
     "output_type": "execute_result"
    }
   ],
   "source": [
    "list(workflow.get_state_history(config1))"
   ]
  },
  {
   "cell_type": "markdown",
   "id": "cfc780d3",
   "metadata": {},
   "source": [
    "# Time Travel"
   ]
  },
  {
   "cell_type": "code",
   "execution_count": null,
   "id": "d8a407f9",
   "metadata": {},
   "outputs": [],
   "source": [
    "workflow.get_state({\"configurable\": {\"thread_id\": \"1\", \"checkpoint_id\": \"1f06cc6e-7232-6cb1-8000-f71609e6cec5\"}})"
   ]
  },
  {
   "cell_type": "code",
   "execution_count": null,
   "id": "07c23b58",
   "metadata": {},
   "outputs": [],
   "source": [
    "workflow.invoke(None, {\"configurable\": {\"thread_id\": \"1\", \"checkpoint_id\": \"1f06cc6e-7232-6cb1-8000-f71609e6cec5\"}})"
   ]
  },
  {
   "cell_type": "code",
   "execution_count": null,
   "id": "cd828a51",
   "metadata": {},
   "outputs": [],
   "source": [
    "list(workflow.get_state_history(config1))"
   ]
  },
  {
   "cell_type": "markdown",
   "id": "c8a7382a",
   "metadata": {},
   "source": [
    "# Updating State"
   ]
  },
  {
   "cell_type": "code",
   "execution_count": null,
   "id": "018f30d6",
   "metadata": {},
   "outputs": [],
   "source": []
  }
 ],
 "metadata": {
  "kernelspec": {
   "display_name": ".venv (3.13.6)",
   "language": "python",
   "name": "python3"
  },
  "language_info": {
   "codemirror_mode": {
    "name": "ipython",
    "version": 3
   },
   "file_extension": ".py",
   "mimetype": "text/x-python",
   "name": "python",
   "nbconvert_exporter": "python",
   "pygments_lexer": "ipython3",
   "version": "3.13.6"
  }
 },
 "nbformat": 4,
 "nbformat_minor": 5
}
