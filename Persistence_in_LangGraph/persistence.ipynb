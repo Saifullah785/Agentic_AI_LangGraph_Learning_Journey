{
 "cells": [
  {
   "cell_type": "code",
   "execution_count": 1,
   "id": "38e61181",
   "metadata": {},
   "outputs": [],
   "source": [
    "from langgraph.graph import StateGraph, START, END\n",
    "from typing import TypedDict\n",
    "from langchain_openai import ChatOpenAI\n",
    "from dotenv import load_dotenv\n",
    "from langgraph.checkpoint.memory import InMemorySaver"
   ]
  },
  {
   "cell_type": "code",
   "execution_count": 2,
   "id": "ebffbc3a",
   "metadata": {},
   "outputs": [],
   "source": [
    "load_dotenv()  # take environment variables from .env.\n",
    "\n",
    "llm = ChatOpenAI()"
   ]
  },
  {
   "cell_type": "code",
   "execution_count": 3,
   "id": "7acdd04e",
   "metadata": {},
   "outputs": [],
   "source": [
    "class JokeState(TypedDict):\n",
    "    topic: str\n",
    "    joke: str\n",
    "    explanation: str"
   ]
  },
  {
   "cell_type": "code",
   "execution_count": 4,
   "id": "6556678e",
   "metadata": {},
   "outputs": [],
   "source": [
    "def generate_joke(state: JokeState):\n",
    "\n",
    "    prompt = f'generate a joke on the topic of {state[\"topic\"]}'\n",
    "\n",
    "    response = llm.invoke(prompt).content\n",
    "\n",
    "    return {\"joke\": response}"
   ]
  },
  {
   "cell_type": "code",
   "execution_count": 5,
   "id": "07505ecd",
   "metadata": {},
   "outputs": [],
   "source": [
    "def generate_explanation(state: JokeState):\n",
    "\n",
    "    prompt= f'write an explanation for the joke: {state[\"joke\"]}'\n",
    "\n",
    "    response = llm.invoke(prompt).content\n",
    "\n",
    "    return {\"explanation\": response}"
   ]
  },
  {
   "cell_type": "code",
   "execution_count": 6,
   "id": "ca24dec6",
   "metadata": {},
   "outputs": [],
   "source": [
    "graph = StateGraph(JokeState)\n",
    "\n",
    "graph.add_node('generate_joke', generate_joke)\n",
    "graph.add_node('generate_explanation', generate_explanation)\n",
    "\n",
    "graph.add_edge(START, 'generate_joke')\n",
    "graph.add_edge('generate_joke', 'generate_explanation')\n",
    "graph.add_edge('generate_explanation', END)\n",
    "\n",
    "checkpointer = InMemorySaver()\n",
    "\n",
    "workflow = graph.compile(checkpointer=checkpointer)"
   ]
  },
  {
   "cell_type": "code",
   "execution_count": 7,
   "id": "c136ab26",
   "metadata": {},
   "outputs": [
    {
     "data": {
      "text/plain": [
       "{'topic': 'chickens',\n",
       " 'joke': 'Why did the chicken join a band? Because it had great drumsticks!',\n",
       " 'explanation': 'This joke plays on the double meaning of the word \"drumsticks.\" In this context, \"drumsticks\" can refer to both the chicken\\'s actual legs (which are commonly referred to as drumsticks) and the drumsticks used by a drummer in a band. The joke humorously suggests that the chicken joined a band because it had great drumsticks, implying that it had good legs for drumming. The pun adds a playful and silly element to the joke.'}"
      ]
     },
     "execution_count": 7,
     "metadata": {},
     "output_type": "execute_result"
    }
   ],
   "source": [
    "config1 = {\"configurable\": {'thread_id': '1'}}\n",
    "workflow.invoke({\"topic\": \"chickens\"}, config=config1)"
   ]
  },
  {
   "cell_type": "code",
   "execution_count": 8,
   "id": "c082db73",
   "metadata": {},
   "outputs": [
    {
     "data": {
      "text/plain": [
       "StateSnapshot(values={'topic': 'chickens', 'joke': 'Why did the chicken join a band? Because it had great drumsticks!', 'explanation': 'This joke plays on the double meaning of the word \"drumsticks.\" In this context, \"drumsticks\" can refer to both the chicken\\'s actual legs (which are commonly referred to as drumsticks) and the drumsticks used by a drummer in a band. The joke humorously suggests that the chicken joined a band because it had great drumsticks, implying that it had good legs for drumming. The pun adds a playful and silly element to the joke.'}, next=(), config={'configurable': {'thread_id': '1', 'checkpoint_ns': '', 'checkpoint_id': '1f087d39-e5cc-6fb5-8002-86171280ebc0'}}, metadata={'source': 'loop', 'step': 2, 'parents': {}}, created_at='2025-09-02T08:05:41.321669+00:00', parent_config={'configurable': {'thread_id': '1', 'checkpoint_ns': '', 'checkpoint_id': '1f087d39-d251-6e73-8001-dc803c6e014b'}}, tasks=(), interrupts=())"
      ]
     },
     "execution_count": 8,
     "metadata": {},
     "output_type": "execute_result"
    }
   ],
   "source": [
    "workflow.get_state(config1)"
   ]
  },
  {
   "cell_type": "code",
   "execution_count": 9,
   "id": "f7b6fdfe",
   "metadata": {},
   "outputs": [
    {
     "data": {
      "text/plain": [
       "[StateSnapshot(values={'topic': 'chickens', 'joke': 'Why did the chicken join a band? Because it had great drumsticks!', 'explanation': 'This joke plays on the double meaning of the word \"drumsticks.\" In this context, \"drumsticks\" can refer to both the chicken\\'s actual legs (which are commonly referred to as drumsticks) and the drumsticks used by a drummer in a band. The joke humorously suggests that the chicken joined a band because it had great drumsticks, implying that it had good legs for drumming. The pun adds a playful and silly element to the joke.'}, next=(), config={'configurable': {'thread_id': '1', 'checkpoint_ns': '', 'checkpoint_id': '1f087d39-e5cc-6fb5-8002-86171280ebc0'}}, metadata={'source': 'loop', 'step': 2, 'parents': {}}, created_at='2025-09-02T08:05:41.321669+00:00', parent_config={'configurable': {'thread_id': '1', 'checkpoint_ns': '', 'checkpoint_id': '1f087d39-d251-6e73-8001-dc803c6e014b'}}, tasks=(), interrupts=()),\n",
       " StateSnapshot(values={'topic': 'chickens', 'joke': 'Why did the chicken join a band? Because it had great drumsticks!'}, next=('generate_explanation',), config={'configurable': {'thread_id': '1', 'checkpoint_ns': '', 'checkpoint_id': '1f087d39-d251-6e73-8001-dc803c6e014b'}}, metadata={'source': 'loop', 'step': 1, 'parents': {}}, created_at='2025-09-02T08:05:39.278992+00:00', parent_config={'configurable': {'thread_id': '1', 'checkpoint_ns': '', 'checkpoint_id': '1f087d39-c2af-6074-8000-0bbb5e9d6972'}}, tasks=(PregelTask(id='4c501023-a2f7-bc37-fda4-6307707a33f3', name='generate_explanation', path=('__pregel_pull', 'generate_explanation'), error=None, interrupts=(), state=None, result={'explanation': 'This joke plays on the double meaning of the word \"drumsticks.\" In this context, \"drumsticks\" can refer to both the chicken\\'s actual legs (which are commonly referred to as drumsticks) and the drumsticks used by a drummer in a band. The joke humorously suggests that the chicken joined a band because it had great drumsticks, implying that it had good legs for drumming. The pun adds a playful and silly element to the joke.'}),), interrupts=()),\n",
       " StateSnapshot(values={'topic': 'chickens'}, next=('generate_joke',), config={'configurable': {'thread_id': '1', 'checkpoint_ns': '', 'checkpoint_id': '1f087d39-c2af-6074-8000-0bbb5e9d6972'}}, metadata={'source': 'loop', 'step': 0, 'parents': {}}, created_at='2025-09-02T08:05:37.639419+00:00', parent_config={'configurable': {'thread_id': '1', 'checkpoint_ns': '', 'checkpoint_id': '1f087d39-c2ac-66c7-bfff-5e20633caafa'}}, tasks=(PregelTask(id='002cb7b3-d91c-570a-b4ac-2b4cc67ea380', name='generate_joke', path=('__pregel_pull', 'generate_joke'), error=None, interrupts=(), state=None, result={'joke': 'Why did the chicken join a band? Because it had great drumsticks!'}),), interrupts=()),\n",
       " StateSnapshot(values={}, next=('__start__',), config={'configurable': {'thread_id': '1', 'checkpoint_ns': '', 'checkpoint_id': '1f087d39-c2ac-66c7-bfff-5e20633caafa'}}, metadata={'source': 'input', 'step': -1, 'parents': {}}, created_at='2025-09-02T08:05:37.638359+00:00', parent_config=None, tasks=(PregelTask(id='43a38101-f5db-d112-4dd9-35b4c3d2bc90', name='__start__', path=('__pregel_pull', '__start__'), error=None, interrupts=(), state=None, result={'topic': 'chickens'}),), interrupts=())]"
      ]
     },
     "execution_count": 9,
     "metadata": {},
     "output_type": "execute_result"
    }
   ],
   "source": [
    "list(workflow.get_state_history(config1))"
   ]
  },
  {
   "cell_type": "code",
   "execution_count": 10,
   "id": "2be0ce13",
   "metadata": {},
   "outputs": [
    {
     "data": {
      "text/plain": [
       "{'topic': 'computers',\n",
       " 'joke': 'Why did the computer go to the doctor?\\nBecause it had a virus!',\n",
       " 'explanation': 'This joke plays on the dual meaning of the word \"virus.\" In the context of the joke, \"virus\" refers to a harmful program that can infect and damage a computer system. However, the word \"virus\" also commonly refers to a type of illness that requires medical attention from a doctor. The punchline humorously suggests that the computer \"went to the doctor\" because it had a \"virus\" in the form of a computer bug, making it a clever play on words.'}"
      ]
     },
     "execution_count": 10,
     "metadata": {},
     "output_type": "execute_result"
    }
   ],
   "source": [
    "config2 = {'configurable': {'thread_id': '2'}}\n",
    "workflow.invoke({\"topic\": \"computers\"}, config=config2)"
   ]
  },
  {
   "cell_type": "code",
   "execution_count": 11,
   "id": "bab5cc5c",
   "metadata": {},
   "outputs": [
    {
     "data": {
      "text/plain": [
       "StateSnapshot(values={'topic': 'chickens', 'joke': 'Why did the chicken join a band? Because it had great drumsticks!', 'explanation': 'This joke plays on the double meaning of the word \"drumsticks.\" In this context, \"drumsticks\" can refer to both the chicken\\'s actual legs (which are commonly referred to as drumsticks) and the drumsticks used by a drummer in a band. The joke humorously suggests that the chicken joined a band because it had great drumsticks, implying that it had good legs for drumming. The pun adds a playful and silly element to the joke.'}, next=(), config={'configurable': {'thread_id': '1', 'checkpoint_ns': '', 'checkpoint_id': '1f087d39-e5cc-6fb5-8002-86171280ebc0'}}, metadata={'source': 'loop', 'step': 2, 'parents': {}}, created_at='2025-09-02T08:05:41.321669+00:00', parent_config={'configurable': {'thread_id': '1', 'checkpoint_ns': '', 'checkpoint_id': '1f087d39-d251-6e73-8001-dc803c6e014b'}}, tasks=(), interrupts=())"
      ]
     },
     "execution_count": 11,
     "metadata": {},
     "output_type": "execute_result"
    }
   ],
   "source": [
    "workflow.get_state(config1)"
   ]
  },
  {
   "cell_type": "code",
   "execution_count": 12,
   "id": "34a5293b",
   "metadata": {},
   "outputs": [
    {
     "data": {
      "text/plain": [
       "[StateSnapshot(values={'topic': 'chickens', 'joke': 'Why did the chicken join a band? Because it had great drumsticks!', 'explanation': 'This joke plays on the double meaning of the word \"drumsticks.\" In this context, \"drumsticks\" can refer to both the chicken\\'s actual legs (which are commonly referred to as drumsticks) and the drumsticks used by a drummer in a band. The joke humorously suggests that the chicken joined a band because it had great drumsticks, implying that it had good legs for drumming. The pun adds a playful and silly element to the joke.'}, next=(), config={'configurable': {'thread_id': '1', 'checkpoint_ns': '', 'checkpoint_id': '1f087d39-e5cc-6fb5-8002-86171280ebc0'}}, metadata={'source': 'loop', 'step': 2, 'parents': {}}, created_at='2025-09-02T08:05:41.321669+00:00', parent_config={'configurable': {'thread_id': '1', 'checkpoint_ns': '', 'checkpoint_id': '1f087d39-d251-6e73-8001-dc803c6e014b'}}, tasks=(), interrupts=()),\n",
       " StateSnapshot(values={'topic': 'chickens', 'joke': 'Why did the chicken join a band? Because it had great drumsticks!'}, next=('generate_explanation',), config={'configurable': {'thread_id': '1', 'checkpoint_ns': '', 'checkpoint_id': '1f087d39-d251-6e73-8001-dc803c6e014b'}}, metadata={'source': 'loop', 'step': 1, 'parents': {}}, created_at='2025-09-02T08:05:39.278992+00:00', parent_config={'configurable': {'thread_id': '1', 'checkpoint_ns': '', 'checkpoint_id': '1f087d39-c2af-6074-8000-0bbb5e9d6972'}}, tasks=(PregelTask(id='4c501023-a2f7-bc37-fda4-6307707a33f3', name='generate_explanation', path=('__pregel_pull', 'generate_explanation'), error=None, interrupts=(), state=None, result={'explanation': 'This joke plays on the double meaning of the word \"drumsticks.\" In this context, \"drumsticks\" can refer to both the chicken\\'s actual legs (which are commonly referred to as drumsticks) and the drumsticks used by a drummer in a band. The joke humorously suggests that the chicken joined a band because it had great drumsticks, implying that it had good legs for drumming. The pun adds a playful and silly element to the joke.'}),), interrupts=()),\n",
       " StateSnapshot(values={'topic': 'chickens'}, next=('generate_joke',), config={'configurable': {'thread_id': '1', 'checkpoint_ns': '', 'checkpoint_id': '1f087d39-c2af-6074-8000-0bbb5e9d6972'}}, metadata={'source': 'loop', 'step': 0, 'parents': {}}, created_at='2025-09-02T08:05:37.639419+00:00', parent_config={'configurable': {'thread_id': '1', 'checkpoint_ns': '', 'checkpoint_id': '1f087d39-c2ac-66c7-bfff-5e20633caafa'}}, tasks=(PregelTask(id='002cb7b3-d91c-570a-b4ac-2b4cc67ea380', name='generate_joke', path=('__pregel_pull', 'generate_joke'), error=None, interrupts=(), state=None, result={'joke': 'Why did the chicken join a band? Because it had great drumsticks!'}),), interrupts=()),\n",
       " StateSnapshot(values={}, next=('__start__',), config={'configurable': {'thread_id': '1', 'checkpoint_ns': '', 'checkpoint_id': '1f087d39-c2ac-66c7-bfff-5e20633caafa'}}, metadata={'source': 'input', 'step': -1, 'parents': {}}, created_at='2025-09-02T08:05:37.638359+00:00', parent_config=None, tasks=(PregelTask(id='43a38101-f5db-d112-4dd9-35b4c3d2bc90', name='__start__', path=('__pregel_pull', '__start__'), error=None, interrupts=(), state=None, result={'topic': 'chickens'}),), interrupts=())]"
      ]
     },
     "execution_count": 12,
     "metadata": {},
     "output_type": "execute_result"
    }
   ],
   "source": [
    "list(workflow.get_state_history(config1))"
   ]
  },
  {
   "cell_type": "markdown",
   "id": "cfc780d3",
   "metadata": {},
   "source": [
    "# Time Travel"
   ]
  },
  {
   "cell_type": "code",
   "execution_count": 13,
   "id": "d8a407f9",
   "metadata": {},
   "outputs": [
    {
     "data": {
      "text/plain": [
       "StateSnapshot(values={}, next=(), config={'configurable': {'thread_id': '1', 'checkpoint_id': '1f06cc6e-7232-6cb1-8000-f71609e6cec5'}}, metadata=None, created_at=None, parent_config=None, tasks=(), interrupts=())"
      ]
     },
     "execution_count": 13,
     "metadata": {},
     "output_type": "execute_result"
    }
   ],
   "source": [
    "workflow.get_state({\"configurable\": {\"thread_id\": \"1\", \"checkpoint_id\": \"1f06cc6e-7232-6cb1-8000-f71609e6cec5\"}})"
   ]
  },
  {
   "cell_type": "code",
   "execution_count": null,
   "id": "07c23b58",
   "metadata": {},
   "outputs": [],
   "source": [
    "\n",
    "workflow.invoke(None, {\"configurable\": {\"thread_id\": \"1\", \"checkpoint_id\": \"1f06cc6e-7232-6cb1-8000-f71609e6cec5\"}})"
   ]
  },
  {
   "cell_type": "code",
   "execution_count": null,
   "id": "cd828a51",
   "metadata": {},
   "outputs": [],
   "source": [
    "list(workflow.get_state_history(config1))"
   ]
  },
  {
   "cell_type": "markdown",
   "id": "c8a7382a",
   "metadata": {},
   "source": [
    "# Updating State"
   ]
  },
  {
   "cell_type": "code",
   "execution_count": null,
   "id": "018f30d6",
   "metadata": {},
   "outputs": [],
   "source": [
    "workflow.update_state({\"configurable\": {\"thread_id\": \"1\", \"checkpoint_id\": \"1f06cc6e-7232-6cb1-8000-f71609e6cec5\", \"checkpoint_ns\": \"\"}}, {'topic':'samosa'})"
   ]
  },
  {
   "cell_type": "code",
   "execution_count": null,
   "id": "18685dcd",
   "metadata": {},
   "outputs": [],
   "source": [
    "list(workflow.get_state_history(config1))"
   ]
  },
  {
   "cell_type": "code",
   "execution_count": null,
   "id": "e798da0b",
   "metadata": {},
   "outputs": [],
   "source": [
    "workflow.invoke(None, {\"configurable\": {\"thread_id\": \"1\", \"checkpoint_id\": \"1f06cc72-ca16-6359-8001-7eea05e07dd2\"}})"
   ]
  },
  {
   "cell_type": "code",
   "execution_count": null,
   "id": "3976bf6a",
   "metadata": {},
   "outputs": [],
   "source": [
    "list(workflow.get_state_history(config1))"
   ]
  },
  {
   "cell_type": "markdown",
   "id": "87bf0230",
   "metadata": {},
   "source": [
    "# Fault Tolerance"
   ]
  }
 ],
 "metadata": {
  "kernelspec": {
   "display_name": ".venv (3.13.6)",
   "language": "python",
   "name": "python3"
  },
  "language_info": {
   "codemirror_mode": {
    "name": "ipython",
    "version": 3
   },
   "file_extension": ".py",
   "mimetype": "text/x-python",
   "name": "python",
   "nbconvert_exporter": "python",
   "pygments_lexer": "ipython3",
   "version": "3.13.7"
  }
 },
 "nbformat": 4,
 "nbformat_minor": 5
}
