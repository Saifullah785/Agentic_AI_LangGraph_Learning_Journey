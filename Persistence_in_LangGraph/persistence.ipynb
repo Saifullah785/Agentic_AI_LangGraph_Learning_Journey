{
  "cells": [
    {
      "cell_type": "markdown",
      "metadata": {
        "id": "view-in-github",
        "colab_type": "text"
      },
      "source": [
        "<a href=\"https://colab.research.google.com/github/Saifullah785/Agentic_AI_LangGraph_Learning_Journey/blob/main/Persistence_in_LangGraph/persistence.ipynb\" target=\"_parent\"><img src=\"https://colab.research.google.com/assets/colab-badge.svg\" alt=\"Open In Colab\"/></a>"
      ]
    },
    {
      "cell_type": "code",
      "execution_count": null,
      "id": "38e61181",
      "metadata": {
        "id": "38e61181"
      },
      "outputs": [],
      "source": [
        "# Import necessary libraries and modules\n",
        "from langgraph.graph import StateGraph, START, END\n",
        "from typing import TypedDict\n",
        "from langchain_openai import ChatOpenAI\n",
        "from dotenv import load_dotenv\n",
        "from langgraph.checkpoint.memory import InMemorySaver"
      ]
    },
    {
      "cell_type": "code",
      "execution_count": null,
      "id": "ebffbc3a",
      "metadata": {
        "id": "ebffbc3a"
      },
      "outputs": [],
      "source": [
        "# Load environment variables and initialize the ChatOpenAI model\n",
        "load_dotenv()  # take environment variables from .env.\n",
        "\n",
        "llm = ChatOpenAI()"
      ]
    },
    {
      "cell_type": "code",
      "execution_count": null,
      "id": "7acdd04e",
      "metadata": {
        "id": "7acdd04e"
      },
      "outputs": [],
      "source": [
        "# Define the state for the joke generation graph\n",
        "class JokeState(TypedDict):\n",
        "    topic: str\n",
        "    joke: str\n",
        "    explanation: str"
      ]
    },
    {
      "cell_type": "code",
      "execution_count": null,
      "id": "6556678e",
      "metadata": {
        "id": "6556678e"
      },
      "outputs": [],
      "source": [
        "# Define a function to generate a joke based on the topic in the state\n",
        "def generate_joke(state: JokeState):\n",
        "\n",
        "    prompt = f'generate a joke on the topic of {state[\"topic\"]}'\n",
        "\n",
        "    response = llm.invoke(prompt).content\n",
        "\n",
        "    return {\"joke\": response}"
      ]
    },
    {
      "cell_type": "code",
      "execution_count": null,
      "id": "07505ecd",
      "metadata": {
        "id": "07505ecd"
      },
      "outputs": [],
      "source": [
        "# Define a function to generate an explanation for the joke in the state\n",
        "def generate_explanation(state: JokeState):\n",
        "\n",
        "    prompt= f'write an explanation for the joke: {state[\"joke\"]}'\n",
        "\n",
        "    response = llm.invoke(prompt).content\n",
        "\n",
        "    return {\"explanation\": response}"
      ]
    },
    {
      "cell_type": "code",
      "execution_count": null,
      "id": "ca24dec6",
      "metadata": {
        "id": "ca24dec6"
      },
      "outputs": [],
      "source": [
        "# Build the StateGraph for joke generation and explanation\n",
        "graph = StateGraph(JokeState)\n",
        "\n",
        "graph.add_node('generate_joke', generate_joke)\n",
        "graph.add_node('generate_explanation', generate_explanation)\n",
        "\n",
        "graph.add_edge(START, 'generate_joke')\n",
        "graph.add_edge('generate_joke', 'generate_explanation')\n",
        "graph.add_edge('generate_explanation', END)\n",
        "\n",
        "checkpointer = InMemorySaver()\n",
        "\n",
        "workflow = graph.compile(checkpointer=checkpointer)"
      ]
    },
    {
      "cell_type": "code",
      "execution_count": null,
      "id": "c136ab26",
      "metadata": {
        "id": "c136ab26",
        "outputId": "820e4c40-8f1a-47f5-ff9b-e9fbfe72d656"
      },
      "outputs": [
        {
          "data": {
            "text/plain": [
              "{'topic': 'chickens',\n",
              " 'joke': 'Why did the chicken join a band? Because it had great drumsticks!',\n",
              " 'explanation': 'This joke plays on the double meaning of the word \"drumsticks.\" In this context, \"drumsticks\" can refer to both the chicken\\'s actual legs (which are commonly referred to as drumsticks) and the drumsticks used by a drummer in a band. The joke humorously suggests that the chicken joined a band because it had great drumsticks, implying that it had good legs for drumming. The pun adds a playful and silly element to the joke.'}"
            ]
          },
          "execution_count": 7,
          "metadata": {},
          "output_type": "execute_result"
        }
      ],
      "source": [
        "# Invoke the joke generation workflow with the topic \"chickens\" for the first thread\n",
        "config1 = {\"configurable\": {'thread_id': '1'}}\n",
        "workflow.invoke({\"topic\": \"chickens\"}, config=config1)"
      ]
    },
    {
      "cell_type": "code",
      "execution_count": null,
      "id": "c082db73",
      "metadata": {
        "id": "c082db73",
        "outputId": "7be5a210-e665-4bcf-b4c5-7aa1fe1e405d"
      },
      "outputs": [
        {
          "data": {
            "text/plain": [
              "StateSnapshot(values={'topic': 'chickens', 'joke': 'Why did the chicken join a band? Because it had great drumsticks!', 'explanation': 'This joke plays on the double meaning of the word \"drumsticks.\" In this context, \"drumsticks\" can refer to both the chicken\\'s actual legs (which are commonly referred to as drumsticks) and the drumsticks used by a drummer in a band. The joke humorously suggests that the chicken joined a band because it had great drumsticks, implying that it had good legs for drumming. The pun adds a playful and silly element to the joke.'}, next=(), config={'configurable': {'thread_id': '1', 'checkpoint_ns': '', 'checkpoint_id': '1f087d39-e5cc-6fb5-8002-86171280ebc0'}}, metadata={'source': 'loop', 'step': 2, 'parents': {}}, created_at='2025-09-02T08:05:41.321669+00:00', parent_config={'configurable': {'thread_id': '1', 'checkpoint_ns': '', 'checkpoint_id': '1f087d39-d251-6e73-8001-dc803c6e014b'}}, tasks=(), interrupts=())"
            ]
          },
          "execution_count": 8,
          "metadata": {},
          "output_type": "execute_result"
        }
      ],
      "source": [
        "# Get the current state of the first thread after the workflow execution\n",
        "workflow.get_state(config1)"
      ]
    },
    {
      "cell_type": "code",
      "execution_count": null,
      "id": "f7b6fdfe",
      "metadata": {
        "id": "f7b6fdfe",
        "outputId": "d093590e-fff7-446f-8724-207bd6061cb3"
      },
      "outputs": [
        {
          "data": {
            "text/plain": [
              "[StateSnapshot(values={'topic': 'chickens', 'joke': 'Why did the chicken join a band? Because it had great drumsticks!', 'explanation': 'This joke plays on the double meaning of the word \"drumsticks.\" In this context, \"drumsticks\" can refer to both the chicken\\'s actual legs (which are commonly referred to as drumsticks) and the drumsticks used by a drummer in a band. The joke humorously suggests that the chicken joined a band because it had great drumsticks, implying that it had good legs for drumming. The pun adds a playful and silly element to the joke.'}, next=(), config={'configurable': {'thread_id': '1', 'checkpoint_ns': '', 'checkpoint_id': '1f087d39-e5cc-6fb5-8002-86171280ebc0'}}, metadata={'source': 'loop', 'step': 2, 'parents': {}}, created_at='2025-09-02T08:05:41.321669+00:00', parent_config={'configurable': {'thread_id': '1', 'checkpoint_ns': '', 'checkpoint_id': '1f087d39-d251-6e73-8001-dc803c6e014b'}}, tasks=(), interrupts=()),\n",
              " StateSnapshot(values={'topic': 'chickens', 'joke': 'Why did the chicken join a band? Because it had great drumsticks!'}, next=('generate_explanation',), config={'configurable': {'thread_id': '1', 'checkpoint_ns': '', 'checkpoint_id': '1f087d39-d251-6e73-8001-dc803c6e014b'}}, metadata={'source': 'loop', 'step': 1, 'parents': {}}, created_at='2025-09-02T08:05:39.278992+00:00', parent_config={'configurable': {'thread_id': '1', 'checkpoint_ns': '', 'checkpoint_id': '1f087d39-c2af-6074-8000-0bbb5e9d6972'}}, tasks=(PregelTask(id='4c501023-a2f7-bc37-fda4-6307707a33f3', name='generate_explanation', path=('__pregel_pull', 'generate_explanation'), error=None, interrupts=(), state=None, result={'explanation': 'This joke plays on the double meaning of the word \"drumsticks.\" In this context, \"drumsticks\" can refer to both the chicken\\'s actual legs (which are commonly referred to as drumsticks) and the drumsticks used by a drummer in a band. The joke humorously suggests that the chicken joined a band because it had great drumsticks, implying that it had good legs for drumming. The pun adds a playful and silly element to the joke.'}),), interrupts=()),\n",
              " StateSnapshot(values={'topic': 'chickens'}, next=('generate_joke',), config={'configurable': {'thread_id': '1', 'checkpoint_ns': '', 'checkpoint_id': '1f087d39-c2af-6074-8000-0bbb5e9d6972'}}, metadata={'source': 'loop', 'step': 0, 'parents': {}}, created_at='2025-09-02T08:05:37.639419+00:00', parent_config={'configurable': {'thread_id': '1', 'checkpoint_ns': '', 'checkpoint_id': '1f087d39-c2ac-66c7-bfff-5e20633caafa'}}, tasks=(PregelTask(id='002cb7b3-d91c-570a-b4ac-2b4cc67ea380', name='generate_joke', path=('__pregel_pull', 'generate_joke'), error=None, interrupts=(), state=None, result={'joke': 'Why did the chicken join a band? Because it had great drumsticks!'}),), interrupts=()),\n",
              " StateSnapshot(values={}, next=('__start__',), config={'configurable': {'thread_id': '1', 'checkpoint_ns': '', 'checkpoint_id': '1f087d39-c2ac-66c7-bfff-5e20633caafa'}}, metadata={'source': 'input', 'step': -1, 'parents': {}}, created_at='2025-09-02T08:05:37.638359+00:00', parent_config=None, tasks=(PregelTask(id='43a38101-f5db-d112-4dd9-35b4c3d2bc90', name='__start__', path=('__pregel_pull', '__start__'), error=None, interrupts=(), state=None, result={'topic': 'chickens'}),), interrupts=())]"
            ]
          },
          "execution_count": 9,
          "metadata": {},
          "output_type": "execute_result"
        }
      ],
      "source": [
        "# Get the state history for the first thread\n",
        "list(workflow.get_state_history(config1))"
      ]
    },
    {
      "cell_type": "code",
      "execution_count": null,
      "id": "2be0ce13",
      "metadata": {
        "id": "2be0ce13",
        "outputId": "2bc354ec-ff57-438d-ea42-b057efac3db8"
      },
      "outputs": [
        {
          "data": {
            "text/plain": [
              "{'topic': 'computers',\n",
              " 'joke': 'Why did the computer go to the doctor?\\nBecause it had a virus!',\n",
              " 'explanation': 'This joke plays on the dual meaning of the word \"virus.\" In the context of the joke, \"virus\" refers to a harmful program that can infect and damage a computer system. However, the word \"virus\" also commonly refers to a type of illness that requires medical attention from a doctor. The punchline humorously suggests that the computer \"went to the doctor\" because it had a \"virus\" in the form of a computer bug, making it a clever play on words.'}"
            ]
          },
          "execution_count": 10,
          "metadata": {},
          "output_type": "execute_result"
        }
      ],
      "source": [
        "# Invoke the joke generation workflow with the topic \"computers\" for a second thread\n",
        "config2 = {'configurable': {'thread_id': '2'}}\n",
        "workflow.invoke({\"topic\": \"computers\"}, config=config2)"
      ]
    },
    {
      "cell_type": "code",
      "execution_count": null,
      "id": "bab5cc5c",
      "metadata": {
        "id": "bab5cc5c",
        "outputId": "9f6ff84a-0858-44bd-f415-235b21f3c733"
      },
      "outputs": [
        {
          "data": {
            "text/plain": [
              "StateSnapshot(values={'topic': 'chickens', 'joke': 'Why did the chicken join a band? Because it had great drumsticks!', 'explanation': 'This joke plays on the double meaning of the word \"drumsticks.\" In this context, \"drumsticks\" can refer to both the chicken\\'s actual legs (which are commonly referred to as drumsticks) and the drumsticks used by a drummer in a band. The joke humorously suggests that the chicken joined a band because it had great drumsticks, implying that it had good legs for drumming. The pun adds a playful and silly element to the joke.'}, next=(), config={'configurable': {'thread_id': '1', 'checkpoint_ns': '', 'checkpoint_id': '1f087d39-e5cc-6fb5-8002-86171280ebc0'}}, metadata={'source': 'loop', 'step': 2, 'parents': {}}, created_at='2025-09-02T08:05:41.321669+00:00', parent_config={'configurable': {'thread_id': '1', 'checkpoint_ns': '', 'checkpoint_id': '1f087d39-d251-6e73-8001-dc803c6e014b'}}, tasks=(), interrupts=())"
            ]
          },
          "execution_count": 11,
          "metadata": {},
          "output_type": "execute_result"
        }
      ],
      "source": [
        "# Get the current state of the first thread again\n",
        "workflow.get_state(config1)"
      ]
    },
    {
      "cell_type": "code",
      "execution_count": null,
      "id": "34a5293b",
      "metadata": {
        "id": "34a5293b",
        "outputId": "ebc78ceb-917d-4ef5-d01a-7891d6dafc3e"
      },
      "outputs": [
        {
          "data": {
            "text/plain": [
              "[StateSnapshot(values={'topic': 'chickens', 'joke': 'Why did the chicken join a band? Because it had great drumsticks!', 'explanation': 'This joke plays on the double meaning of the word \"drumsticks.\" In this context, \"drumsticks\" can refer to both the chicken\\'s actual legs (which are commonly referred to as drumsticks) and the drumsticks used by a drummer in a band. The joke humorously suggests that the chicken joined a band because it had great drumsticks, implying that it had good legs for drumming. The pun adds a playful and silly element to the joke.'}, next=(), config={'configurable': {'thread_id': '1', 'checkpoint_ns': '', 'checkpoint_id': '1f087d39-e5cc-6fb5-8002-86171280ebc0'}}, metadata={'source': 'loop', 'step': 2, 'parents': {}}, created_at='2025-09-02T08:05:41.321669+00:00', parent_config={'configurable': {'thread_id': '1', 'checkpoint_ns': '', 'checkpoint_id': '1f087d39-d251-6e73-8001-dc803c6e014b'}}, tasks=(), interrupts=()),\n",
              " StateSnapshot(values={'topic': 'chickens', 'joke': 'Why did the chicken join a band? Because it had great drumsticks!'}, next=('generate_explanation',), config={'configurable': {'thread_id': '1', 'checkpoint_ns': '', 'checkpoint_id': '1f087d39-d251-6e73-8001-dc803c6e014b'}}, metadata={'source': 'loop', 'step': 1, 'parents': {}}, created_at='2025-09-02T08:05:39.278992+00:00', parent_config={'configurable': {'thread_id': '1', 'checkpoint_ns': '', 'checkpoint_id': '1f087d39-c2af-6074-8000-0bbb5e9d6972'}}, tasks=(PregelTask(id='4c501023-a2f7-bc37-fda4-6307707a33f3', name='generate_explanation', path=('__pregel_pull', 'generate_explanation'), error=None, interrupts=(), state=None, result={'explanation': 'This joke plays on the double meaning of the word \"drumsticks.\" In this context, \"drumsticks\" can refer to both the chicken\\'s actual legs (which are commonly referred to as drumsticks) and the drumsticks used by a drummer in a band. The joke humorously suggests that the chicken joined a band because it had great drumsticks, implying that it had good legs for drumming. The pun adds a playful and silly element to the joke.'}),), interrupts=()),\n",
              " StateSnapshot(values={'topic': 'chickens'}, next=('generate_joke',), config={'configurable': {'thread_id': '1', 'checkpoint_ns': '', 'checkpoint_id': '1f087d39-c2af-6074-8000-0bbb5e9d6972'}}, metadata={'source': 'loop', 'step': 0, 'parents': {}}, created_at='2025-09-02T08:05:37.639419+00:00', parent_config={'configurable': {'thread_id': '1', 'checkpoint_ns': '', 'checkpoint_id': '1f087d39-c2ac-66c7-bfff-5e20633caafa'}}, tasks=(PregelTask(id='002cb7b3-d91c-570a-b4ac-2b4cc67ea380', name='generate_joke', path=('__pregel_pull', 'generate_joke'), error=None, interrupts=(), state=None, result={'joke': 'Why did the chicken join a band? Because it had great drumsticks!'}),), interrupts=()),\n",
              " StateSnapshot(values={}, next=('__start__',), config={'configurable': {'thread_id': '1', 'checkpoint_ns': '', 'checkpoint_id': '1f087d39-c2ac-66c7-bfff-5e20633caafa'}}, metadata={'source': 'input', 'step': -1, 'parents': {}}, created_at='2025-09-02T08:05:37.638359+00:00', parent_config=None, tasks=(PregelTask(id='43a38101-f5db-d112-4dd9-35b4c3d2bc90', name='__start__', path=('__pregel_pull', '__start__'), error=None, interrupts=(), state=None, result={'topic': 'chickens'}),), interrupts=())]"
            ]
          },
          "execution_count": 12,
          "metadata": {},
          "output_type": "execute_result"
        }
      ],
      "source": [
        "# Get the state history of the first thread again\n",
        "list(workflow.get_state_history(config1))"
      ]
    },
    {
      "cell_type": "markdown",
      "id": "cfc780d3",
      "metadata": {
        "id": "cfc780d3"
      },
      "source": [
        "# Time Travel"
      ]
    },
    {
      "cell_type": "code",
      "execution_count": null,
      "id": "d8a407f9",
      "metadata": {
        "id": "d8a407f9",
        "outputId": "4e192f32-87b5-4a5f-9635-80e9976f7fe5"
      },
      "outputs": [
        {
          "data": {
            "text/plain": [
              "StateSnapshot(values={}, next=(), config={'configurable': {'thread_id': '1', 'checkpoint_id': '1f06cc6e-7232-6cb1-8000-f71609e6cec5'}}, metadata=None, created_at=None, parent_config=None, tasks=(), interrupts=())"
            ]
          },
          "execution_count": 13,
          "metadata": {},
          "output_type": "execute_result"
        }
      ],
      "source": [
        "# Get the state of the first thread at a specific checkpoint\n",
        "workflow.get_state({\"configurable\": {\"thread_id\": \"1\", \"checkpoint_id\": \"1f06cc6e-7232-6cb1-8000-f71609e6cec5\"}})"
      ]
    },
    {
      "cell_type": "code",
      "execution_count": null,
      "id": "07c23b58",
      "metadata": {
        "id": "07c23b58"
      },
      "outputs": [],
      "source": [
        "# Invoke the workflow from a specific checkpoint for the first thread\n",
        "workflow.invoke(None, {\"configurable\": {\"thread_id\": \"1\", \"checkpoint_id\": \"1f06cc6e-7232-6cb1-8000-f71609e6cec5\"}})"
      ]
    },
    {
      "cell_type": "code",
      "execution_count": null,
      "id": "cd828a51",
      "metadata": {
        "id": "cd828a51"
      },
      "outputs": [],
      "source": [
        "# Get the state history of the first thread after invoking from a checkpoint\n",
        "list(workflow.get_state_history(config1))"
      ]
    },
    {
      "cell_type": "markdown",
      "id": "c8a7382a",
      "metadata": {
        "id": "c8a7382a"
      },
      "source": [
        "# Updating State"
      ]
    },
    {
      "cell_type": "code",
      "execution_count": null,
      "id": "018f30d6",
      "metadata": {
        "id": "018f30d6"
      },
      "outputs": [],
      "source": [
        "# Update the state of the first thread at a specific checkpoint\n",
        "workflow.update_state({\"configurable\": {\"thread_id\": \"1\", \"checkpoint_id\": \"1f06cc6e-7232-6cb1-8000-f71609e6cec5\", \"checkpoint_ns\": \"\"}}, {'topic':'samosa'})"
      ]
    },
    {
      "cell_type": "code",
      "execution_count": null,
      "id": "18685dcd",
      "metadata": {
        "id": "18685dcd"
      },
      "outputs": [],
      "source": [
        "# Get the state history of the first thread after updating the state\n",
        "list(workflow.get_state_history(config1))"
      ]
    },
    {
      "cell_type": "code",
      "execution_count": null,
      "id": "e798da0b",
      "metadata": {
        "id": "e798da0b"
      },
      "outputs": [],
      "source": [
        "# Invoke the workflow from another checkpoint for the first thread\n",
        "workflow.invoke(None, {\"configurable\": {\"thread_id\": \"1\", \"checkpoint_id\": \"1f06cc72-ca16-6359-8001-7eea05e07dd2\"}})"
      ]
    },
    {
      "cell_type": "code",
      "execution_count": null,
      "id": "3976bf6a",
      "metadata": {
        "id": "3976bf6a"
      },
      "outputs": [],
      "source": [
        "# Get the state history of the first thread after invoking from the second checkpoint\n",
        "list(workflow.get_state_history(config1))"
      ]
    },
    {
      "cell_type": "markdown",
      "id": "87bf0230",
      "metadata": {
        "id": "87bf0230"
      },
      "source": [
        "# Fault Tolerance"
      ]
    },
    {
      "cell_type": "code",
      "execution_count": null,
      "id": "9955145b",
      "metadata": {
        "id": "9955145b"
      },
      "outputs": [],
      "source": [
        "# Import necessary libraries for the fault tolerance example\n",
        "from langgraph.graph import StateGraph, END\n",
        "from langgraph.checkpoint.memory import InMemorySaver\n",
        "from typing import TypedDict\n",
        "import time"
      ]
    },
    {
      "cell_type": "code",
      "execution_count": null,
      "id": "a9b21e42",
      "metadata": {
        "id": "a9b21e42"
      },
      "outputs": [],
      "source": [
        "# Define the state for the fault tolerance example\n",
        "class CrashState(TypedDict):\n",
        "    input: str\n",
        "    setp1: str\n",
        "    step2: str"
      ]
    },
    {
      "cell_type": "code",
      "execution_count": null,
      "id": "dca73323",
      "metadata": {
        "id": "dca73323"
      },
      "outputs": [],
      "source": [
        "# Define the steps for the fault tolerance example, including a simulated hang\n",
        "def step_1(state: CrashState) -> CrashState:\n",
        "    print(\"✅ Step 1 executed\")\n",
        "    return {\"step1\": \"done\", \"input\": state[\"input\"]}\n",
        "\n",
        "def step_2(state: CrashState) -> CrashState:\n",
        "    print(\"⏳ Step 2 hanging... now manually interrupt from the notebook toolbar (STOP button)\")\n",
        "    time.sleep(1000)  # Simulate long-running hang\n",
        "    return {\"step2\": \"done\"}\n",
        "\n",
        "def step_3(state: CrashState) -> CrashState:\n",
        "    print(\"✅ Step 3 executed\")\n",
        "    return {\"done\": True}"
      ]
    },
    {
      "cell_type": "code",
      "execution_count": null,
      "id": "7c6bb105",
      "metadata": {
        "id": "7c6bb105"
      },
      "outputs": [],
      "source": [
        "# Build the StateGraph for the fault tolerance example\n",
        "builder = StateGraph(CrashState)\n",
        "builder.add_node(\"step_1\", step_1)\n",
        "builder.add_node(\"step_2\", step_2)\n",
        "builder.add_node(\"step_3\", step_3)\n",
        "\n",
        "builder.set_entry_point(\"step_1\")\n",
        "builder.add_edge(\"step_1\", \"step_2\")\n",
        "builder.add_edge(\"step_2\", \"step_3\")\n",
        "builder.add_edge(\"step_3\", END)\n",
        "\n",
        "checkpointer = InMemorySaver()\n",
        "graph = builder.compile(checkpointer=checkpointer)"
      ]
    },
    {
      "cell_type": "code",
      "execution_count": null,
      "id": "a1365ea9",
      "metadata": {
        "id": "a1365ea9"
      },
      "outputs": [],
      "source": [
        "# Run the graph to simulate a crash during Step 2 and catch the KeyboardInterrupt\n",
        "try:\n",
        "    print(\"▶️ Running graph: Please manually interrupt during Step 2...\")\n",
        "    graph.invoke({\"input\": \"start\"}, config={\"configurable\": {\"thread_id\": 'thread-1'}})\n",
        "except KeyboardInterrupt:\n",
        "    print(\"❌ Kernel manually interrupted (crash simulated).\")"
      ]
    },
    {
      "cell_type": "code",
      "execution_count": null,
      "id": "cf41546a",
      "metadata": {
        "id": "cf41546a"
      },
      "outputs": [],
      "source": [
        "# Re-run the graph to demonstrate fault tolerance and resume from the last saved state\n",
        "print(\"\\n🔁 Re-running the graph to demonstrate fault tolerance...\")\n",
        "final_state = graph.invoke(None, config={\"configurable\": {\"thread_id\": 'thread-1'}})\n",
        "print(\"\\n✅ Final State:\", final_state)"
      ]
    },
    {
      "cell_type": "code",
      "execution_count": null,
      "id": "e20bb116",
      "metadata": {
        "id": "e20bb116"
      },
      "outputs": [],
      "source": [
        "# Get the state history of the fault tolerance example thread\n",
        "list(graph.get_state_history({\"configurable\": {\"thread_id\": 'thread-1'}}))"
      ]
    }
  ],
  "metadata": {
    "kernelspec": {
      "display_name": ".venv (3.13.6)",
      "language": "python",
      "name": "python3"
    },
    "language_info": {
      "codemirror_mode": {
        "name": "ipython",
        "version": 3
      },
      "file_extension": ".py",
      "mimetype": "text/x-python",
      "name": "python",
      "nbconvert_exporter": "python",
      "pygments_lexer": "ipython3",
      "version": "3.13.7"
    },
    "colab": {
      "provenance": [],
      "include_colab_link": true
    }
  },
  "nbformat": 4,
  "nbformat_minor": 5
}