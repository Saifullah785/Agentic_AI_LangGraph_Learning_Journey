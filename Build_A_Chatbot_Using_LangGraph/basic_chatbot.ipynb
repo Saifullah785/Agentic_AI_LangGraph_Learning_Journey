{
  "cells": [
    {
      "cell_type": "markdown",
      "metadata": {
        "id": "view-in-github",
        "colab_type": "text"
      },
      "source": [
        "<a href=\"https://colab.research.google.com/github/Saifullah785/Agentic_AI_LangGraph_Learning_Journey/blob/main/Build_A_Chatbot_Using_LangGraph/basic_chatbot.ipynb\" target=\"_parent\"><img src=\"https://colab.research.google.com/assets/colab-badge.svg\" alt=\"Open In Colab\"/></a>"
      ]
    },
    {
      "cell_type": "code",
      "source": [
        "# Install necessary libraries\n",
        "# ! pip install langchain_openai\n",
        "# ! pip install langgraph"
      ],
      "metadata": {
        "id": "SYcdC14F5EhP"
      },
      "id": "SYcdC14F5EhP",
      "execution_count": 2,
      "outputs": []
    },
    {
      "cell_type": "code",
      "execution_count": 3,
      "id": "a9623003",
      "metadata": {
        "id": "a9623003"
      },
      "outputs": [],
      "source": [
        "# Import necessary libraries\n",
        "from langgraph.graph import StateGraph, START, END\n",
        "from typing import TypedDict, Annotated\n",
        "from langchain_core.messages import BaseMessage, HumanMessage\n",
        "from langchain_openai import ChatOpenAI\n",
        "from dotenv import load_dotenv"
      ]
    },
    {
      "cell_type": "code",
      "source": [
        "# Get API key from Colab user data\n",
        "\n",
        "from google.colab import userdata\n",
        "OPENAI_API_KEY= userdata.get('OPENAI_API_KEY')"
      ],
      "metadata": {
        "id": "MpqOIZFJ5QEO"
      },
      "id": "MpqOIZFJ5QEO",
      "execution_count": 4,
      "outputs": []
    },
    {
      "cell_type": "code",
      "source": [
        "# Initialize the ChatOpenAI model\n",
        "\n",
        "llm = ChatOpenAI(\n",
        "    model=\"gpt-4o-mini\",openai_api_key=OPENAI_API_KEY)"
      ],
      "metadata": {
        "id": "cfM_KFzh5XdF"
      },
      "id": "cfM_KFzh5XdF",
      "execution_count": 5,
      "outputs": []
    },
    {
      "cell_type": "code",
      "execution_count": null,
      "id": "ae3cb70e",
      "metadata": {
        "id": "ae3cb70e",
        "outputId": "11d372e7-295c-49df-8b6b-5959f945275f"
      },
      "outputs": [
        {
          "data": {
            "text/plain": [
              "True"
            ]
          },
          "execution_count": 2,
          "metadata": {},
          "output_type": "execute_result"
        }
      ],
      "source": [
        "# Load environment variables\n",
        "# load_dotenv()"
      ]
    },
    {
      "cell_type": "code",
      "execution_count": 6,
      "id": "353bd97c",
      "metadata": {
        "id": "353bd97c"
      },
      "outputs": [],
      "source": [
        "# Define the state for the chatbot\n",
        "from langgraph.graph.message import add_messages\n",
        "\n",
        "class ChatState(TypedDict):\n",
        "\n",
        "    messages: Annotated[list[BaseMessage], add_messages]"
      ]
    },
    {
      "cell_type": "code",
      "execution_count": 8,
      "id": "47265471",
      "metadata": {
        "id": "47265471"
      },
      "outputs": [],
      "source": [
        "\n",
        "\n",
        "\n",
        "def chat_node(state: ChatState):\n",
        "\n",
        "    # take user query from state\n",
        "    messages = state['messages']\n",
        "\n",
        "    # send to llm\n",
        "    response = llm.invoke(messages)\n",
        "\n",
        "    # response store state\n",
        "    return {'messages': [response]}"
      ]
    },
    {
      "cell_type": "code",
      "execution_count": 9,
      "id": "07b780f0",
      "metadata": {
        "id": "07b780f0"
      },
      "outputs": [],
      "source": [
        "# Build the graph\n",
        "graph = StateGraph(ChatState)\n",
        "\n",
        "\n",
        "# add nodes\n",
        "graph.add_node('chat_node', chat_node)\n",
        "\n",
        "graph.add_edge(START, 'chat_node')\n",
        "graph.add_edge('chat_node', END)\n",
        "\n",
        "chatbot= graph.compile()"
      ]
    },
    {
      "cell_type": "code",
      "execution_count": 10,
      "id": "df5046cf",
      "metadata": {
        "colab": {
          "base_uri": "https://localhost:8080/",
          "height": 251
        },
        "id": "df5046cf",
        "outputId": "b180c239-8edd-47ca-b682-cd3bbd4a0f7f"
      },
      "outputs": [
        {
          "output_type": "execute_result",
          "data": {
            "text/plain": [
              "<langgraph.graph.state.CompiledStateGraph object at 0x7ab04bb55d60>"
            ],
            "image/png": "[encoded data removed]"
          },
          "metadata": {},
          "execution_count": 10
        }
      ],
      "source": [
        "# Display the compiled chatbot\n",
        "chatbot"
      ]
    },
    {
      "cell_type": "code",
      "execution_count": 11,
      "id": "1f4af678",
      "metadata": {
        "colab": {
          "base_uri": "https://localhost:8080/",
          "height": 123
        },
        "id": "1f4af678",
        "outputId": "f5e66882-b3ce-4623-a1a1-dc53fcbf1791"
      },
      "outputs": [
        {
          "output_type": "execute_result",
          "data": {
            "text/plain": [
              "\"Quantum physics, or quantum mechanics, is a fundamental branch of physics that describes the physical properties of nature at the scale of atoms and subatomic particles. It provides a theoretical framework for understanding the behavior of matter and energy in ways that classical physics cannot explain.\\n\\nKey concepts of quantum physics include:\\n\\n1. **Wave-Particle Duality**: Particles, such as electrons and photons, exhibit both wave-like and particle-like properties. This duality is famously illustrated by the double-slit experiment, which demonstrates that particles can behave like waves, creating interference patterns.\\n\\n2. **Quantization**: Certain properties, such as energy, are quantized, meaning they can only take on discrete values rather than a continuous range. For example, electrons in an atom occupy specific energy levels.\\n\\n3. **Superposition**: A quantum system can exist in multiple states at once until it is measured. Upon measurement, the system 'collapses' to one of the possible states. This principle is exemplified by Schrödinger's cat thought experiment.\\n\\n4. **Entanglement**: Particles can become entangled, meaning the state of one particle is directly correlated to the state of another, regardless of the distance separating them. Changes to one entangled particle instantaneously affect the other.\\n\\n5. **Uncertainty Principle**: Formulated by Werner Heisenberg, this principle states that certain pairs of physical properties, such as position and momentum, cannot be simultaneously measured with arbitrary precision. The more accurately one property is known, the less accurately the other can be known.\\n\\nQuantum physics has profound implications not only for our understanding of the natural world but also for practical applications, such as quantum computing, quantum cryptography, and technologies like lasers and MRI machines. Despite being conceptually challenging, quantum mechanics has been confirmed through extensive experimentation and is foundational to modern physics.\""
            ],
            "application/vnd.google.colaboratory.intrinsic+json": {
              "type": "string"
            }
          },
          "metadata": {},
          "execution_count": 11
        }
      ],
      "source": [
        "# Invoke the chatbot with an initial message\n",
        "initial_state = {\n",
        "    'messages': [HumanMessage(content=\"Hello, what is quantum physics?\")]\n",
        "\n",
        "}\n",
        "chatbot.invoke(initial_state)['messages'][-1].content"
      ]
    }
  ],
  "metadata": {
    "kernelspec": {
      "display_name": ".venv (3.13.6)",
      "language": "python",
      "name": "python3"
    },
    "language_info": {
      "codemirror_mode": {
        "name": "ipython",
        "version": 3
      },
      "file_extension": ".py",
      "mimetype": "text/x-python",
      "name": "python",
      "nbconvert_exporter": "python",
      "pygments_lexer": "ipython3",
      "version": "3.13.6"
    },
    "colab": {
      "provenance": [],
      "include_colab_link": true
    }
  },
  "nbformat": 4,
  "nbformat_minor": 5
}