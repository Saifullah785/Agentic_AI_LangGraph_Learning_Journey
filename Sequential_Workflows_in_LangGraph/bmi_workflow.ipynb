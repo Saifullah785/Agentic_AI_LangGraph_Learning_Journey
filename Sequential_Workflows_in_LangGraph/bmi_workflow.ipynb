{
  "cells": [
    {
      "cell_type": "markdown",
      "metadata": {
        "id": "view-in-github",
        "colab_type": "text"
      },
      "source": [
        "<a href=\"https://colab.research.google.com/github/Saifullah785/Agentic_AI_LangGraph_Learning_Journey/blob/main/Sequential_Workflows_in_LangGraph/bmi_workflow.ipynb\" target=\"_parent\"><img src=\"https://colab.research.google.com/assets/colab-badge.svg\" alt=\"Open In Colab\"/></a>"
      ]
    },
    {
      "cell_type": "code",
      "metadata": {
        "colab": {
          "base_uri": "https://localhost:8080/"
        },
        "id": "bc4e3fe2",
        "outputId": "3288e1a4-dc49-4c51-d78a-7730e37efbba"
      },
      "source": [
        "# Install langgraph library\n",
        "%pip install langgraph"
      ],
      "id": "bc4e3fe2",
      "execution_count": 14,
      "outputs": [
        {
          "output_type": "stream",
          "name": "stdout",
          "text": [
            "Requirement already satisfied: langgraph in /usr/local/lib/python3.12/dist-packages (0.6.7)\n",
            "Requirement already satisfied: langchain-core>=0.1 in /usr/local/lib/python3.12/dist-packages (from langgraph) (0.3.76)\n",
            "Requirement already satisfied: langgraph-checkpoint<3.0.0,>=2.1.0 in /usr/local/lib/python3.12/dist-packages (from langgraph) (2.1.1)\n",
            "Requirement already satisfied: langgraph-prebuilt<0.7.0,>=0.6.0 in /usr/local/lib/python3.12/dist-packages (from langgraph) (0.6.4)\n",
            "Requirement already satisfied: langgraph-sdk<0.3.0,>=0.2.2 in /usr/local/lib/python3.12/dist-packages (from langgraph) (0.2.9)\n",
            "Requirement already satisfied: pydantic>=2.7.4 in /usr/local/lib/python3.12/dist-packages (from langgraph) (2.11.9)\n",
            "Requirement already satisfied: xxhash>=3.5.0 in /usr/local/lib/python3.12/dist-packages (from langgraph) (3.5.0)\n",
            "Requirement already satisfied: langsmith>=0.3.45 in /usr/local/lib/python3.12/dist-packages (from langchain-core>=0.1->langgraph) (0.4.28)\n",
            "Requirement already satisfied: tenacity!=8.4.0,<10.0.0,>=8.1.0 in /usr/local/lib/python3.12/dist-packages (from langchain-core>=0.1->langgraph) (8.5.0)\n",
            "Requirement already satisfied: jsonpatch<2.0,>=1.33 in /usr/local/lib/python3.12/dist-packages (from langchain-core>=0.1->langgraph) (1.33)\n",
            "Requirement already satisfied: PyYAML>=5.3 in /usr/local/lib/python3.12/dist-packages (from langchain-core>=0.1->langgraph) (6.0.2)\n",
            "Requirement already satisfied: typing-extensions>=4.7 in /usr/local/lib/python3.12/dist-packages (from langchain-core>=0.1->langgraph) (4.15.0)\n",
            "Requirement already satisfied: packaging>=23.2 in /usr/local/lib/python3.12/dist-packages (from langchain-core>=0.1->langgraph) (25.0)\n",
            "Requirement already satisfied: ormsgpack>=1.10.0 in /usr/local/lib/python3.12/dist-packages (from langgraph-checkpoint<3.0.0,>=2.1.0->langgraph) (1.10.0)\n",
            "Requirement already satisfied: httpx>=0.25.2 in /usr/local/lib/python3.12/dist-packages (from langgraph-sdk<0.3.0,>=0.2.2->langgraph) (0.28.1)\n",
            "Requirement already satisfied: orjson>=3.10.1 in /usr/local/lib/python3.12/dist-packages (from langgraph-sdk<0.3.0,>=0.2.2->langgraph) (3.11.3)\n",
            "Requirement already satisfied: annotated-types>=0.6.0 in /usr/local/lib/python3.12/dist-packages (from pydantic>=2.7.4->langgraph) (0.7.0)\n",
            "Requirement already satisfied: pydantic-core==2.33.2 in /usr/local/lib/python3.12/dist-packages (from pydantic>=2.7.4->langgraph) (2.33.2)\n",
            "Requirement already satisfied: typing-inspection>=0.4.0 in /usr/local/lib/python3.12/dist-packages (from pydantic>=2.7.4->langgraph) (0.4.1)\n",
            "Requirement already satisfied: anyio in /usr/local/lib/python3.12/dist-packages (from httpx>=0.25.2->langgraph-sdk<0.3.0,>=0.2.2->langgraph) (4.10.0)\n",
            "Requirement already satisfied: certifi in /usr/local/lib/python3.12/dist-packages (from httpx>=0.25.2->langgraph-sdk<0.3.0,>=0.2.2->langgraph) (2025.8.3)\n",
            "Requirement already satisfied: httpcore==1.* in /usr/local/lib/python3.12/dist-packages (from httpx>=0.25.2->langgraph-sdk<0.3.0,>=0.2.2->langgraph) (1.0.9)\n",
            "Requirement already satisfied: idna in /usr/local/lib/python3.12/dist-packages (from httpx>=0.25.2->langgraph-sdk<0.3.0,>=0.2.2->langgraph) (3.10)\n",
            "Requirement already satisfied: h11>=0.16 in /usr/local/lib/python3.12/dist-packages (from httpcore==1.*->httpx>=0.25.2->langgraph-sdk<0.3.0,>=0.2.2->langgraph) (0.16.0)\n",
            "Requirement already satisfied: jsonpointer>=1.9 in /usr/local/lib/python3.12/dist-packages (from jsonpatch<2.0,>=1.33->langchain-core>=0.1->langgraph) (3.0.0)\n",
            "Requirement already satisfied: requests-toolbelt>=1.0.0 in /usr/local/lib/python3.12/dist-packages (from langsmith>=0.3.45->langchain-core>=0.1->langgraph) (1.0.0)\n",
            "Requirement already satisfied: requests>=2.0.0 in /usr/local/lib/python3.12/dist-packages (from langsmith>=0.3.45->langchain-core>=0.1->langgraph) (2.32.4)\n",
            "Requirement already satisfied: zstandard>=0.23.0 in /usr/local/lib/python3.12/dist-packages (from langsmith>=0.3.45->langchain-core>=0.1->langgraph) (0.25.0)\n",
            "Requirement already satisfied: charset_normalizer<4,>=2 in /usr/local/lib/python3.12/dist-packages (from requests>=2.0.0->langsmith>=0.3.45->langchain-core>=0.1->langgraph) (3.4.3)\n",
            "Requirement already satisfied: urllib3<3,>=1.21.1 in /usr/local/lib/python3.12/dist-packages (from requests>=2.0.0->langsmith>=0.3.45->langchain-core>=0.1->langgraph) (2.5.0)\n",
            "Requirement already satisfied: sniffio>=1.1 in /usr/local/lib/python3.12/dist-packages (from anyio->httpx>=0.25.2->langgraph-sdk<0.3.0,>=0.2.2->langgraph) (1.3.1)\n"
          ]
        }
      ]
    },
    {
      "cell_type": "code",
      "execution_count": 15,
      "id": "2dfcc85c",
      "metadata": {
        "id": "2dfcc85c"
      },
      "outputs": [],
      "source": [
        "# Import necessary libraries for LangGraph\n",
        "from langgraph.graph import StateGraph, START, END\n",
        "from typing import TypedDict"
      ]
    },
    {
      "cell_type": "code",
      "execution_count": 16,
      "id": "a888d4a9",
      "metadata": {
        "id": "a888d4a9"
      },
      "outputs": [],
      "source": [
        "# Define a state dictionary for BMI calculation\n",
        "class BMIState(TypedDict):\n",
        "\n",
        "    weight_kg: float\n",
        "    height_m: float\n",
        "    bmi: float\n",
        "    category: str"
      ]
    },
    {
      "cell_type": "code",
      "execution_count": 17,
      "id": "6af36f6d",
      "metadata": {
        "id": "6af36f6d"
      },
      "outputs": [],
      "source": [
        "# Define a function to calculate BMI\n",
        "def calculate_bmi(state: BMIState) -> BMIState:\n",
        "\n",
        "    weight = state['weight_kg']\n",
        "    height = state['height_m']\n",
        "\n",
        "    bmi = weight/(height**2)\n",
        "\n",
        "    state['bmi'] = round(bmi, 2)\n",
        "\n",
        "    return state"
      ]
    },
    {
      "cell_type": "code",
      "execution_count": 18,
      "id": "0dff066c",
      "metadata": {
        "id": "0dff066c"
      },
      "outputs": [],
      "source": [
        "# Define a function to label BMI category\n",
        "def label_bmi(state: BMIState) -> BMIState:\n",
        "\n",
        "    bmi = state['bmi']\n",
        "\n",
        "    if bmi < 18.5:\n",
        "        state[\"category\"] = \"Underweight\"\n",
        "    elif 18.5 <= bmi < 25:\n",
        "        state[\"category\"] = \"Normal\"\n",
        "    elif 25 <= bmi < 30:\n",
        "        state[\"category\"] = \"Overweight\"\n",
        "    else:\n",
        "        state[\"category\"] = \"Obese\"\n",
        "\n",
        "    return state"
      ]
    },
    {
      "cell_type": "code",
      "execution_count": 19,
      "id": "723d7e79",
      "metadata": {
        "id": "723d7e79"
      },
      "outputs": [],
      "source": [
        "# Define, add nodes and edges to the LangGraph\n",
        "# define your graph\n",
        "graph = StateGraph(BMIState)\n",
        "\n",
        "# add nodes to your graph\n",
        "graph.add_node('calculate_bmi', calculate_bmi)\n",
        "graph.add_node('label_bmi', label_bmi)\n",
        "\n",
        "# add edges to your graph\n",
        "graph.add_edge(START, 'calculate_bmi')\n",
        "graph.add_edge('calculate_bmi', 'label_bmi')\n",
        "graph.add_edge('label_bmi', END)\n",
        "\n",
        "\n",
        "# compile the graph\n",
        "workflow = graph.compile()"
      ]
    },
    {
      "cell_type": "code",
      "execution_count": 20,
      "id": "5b3b13af",
      "metadata": {
        "colab": {
          "base_uri": "https://localhost:8080/"
        },
        "id": "5b3b13af",
        "outputId": "d28f6ff6-767d-4f8c-bff0-1112c8df9dee"
      },
      "outputs": [
        {
          "output_type": "stream",
          "name": "stdout",
          "text": [
            "{'weight_kg': 80, 'height_m': 1.73, 'bmi': 26.73, 'category': 'Overweight'}\n"
          ]
        }
      ],
      "source": [
        "# Execute the LangGraph workflow\n",
        "# execute the graph\n",
        "intial_state = {'weight_kg':80, 'height_m':1.73}\n",
        "\n",
        "final_state = workflow.invoke(intial_state)\n",
        "\n",
        "print(final_state)"
      ]
    },
    {
      "cell_type": "code",
      "execution_count": 21,
      "id": "ef9e6df9",
      "metadata": {
        "colab": {
          "base_uri": "https://localhost:8080/",
          "height": 350
        },
        "id": "ef9e6df9",
        "outputId": "f93ddd74-5505-40e7-8f27-d327bf742586"
      },
      "outputs": [
        {
          "output_type": "execute_result",
          "data": {
            "image/jpeg": "[encoded data removed]",
            "text/plain": [
              "<IPython.core.display.Image object>"
            ]
          },
          "metadata": {},
          "execution_count": 21
        }
      ],
      "source": [
        "# Display the LangGraph as a Mermaid diagram\n",
        "from IPython.display import Image\n",
        "Image(workflow.get_graph().draw_mermaid_png())"
      ]
    }
  ],
  "metadata": {
    "kernelspec": {
      "display_name": "myenv (3.13.6)",
      "language": "python",
      "name": "python3"
    },
    "language_info": {
      "codemirror_mode": {
        "name": "ipython",
        "version": 3
      },
      "file_extension": ".py",
      "mimetype": "text/x-python",
      "name": "python",
      "nbconvert_exporter": "python",
      "pygments_lexer": "ipython3",
      "version": "3.13.6"
    },
    "colab": {
      "provenance": [],
      "include_colab_link": true
    }
  },
  "nbformat": 4,
  "nbformat_minor": 5
}