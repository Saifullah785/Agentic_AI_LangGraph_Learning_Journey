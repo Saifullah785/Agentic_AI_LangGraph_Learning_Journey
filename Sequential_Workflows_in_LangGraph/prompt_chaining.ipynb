{
  "cells": [
    {
      "cell_type": "markdown",
      "metadata": {
        "id": "view-in-github",
        "colab_type": "text"
      },
      "source": [
        "<a href=\"https://colab.research.google.com/github/Saifullah785/Agentic_AI_LangGraph_Learning_Journey/blob/main/Sequential_Workflows_in_LangGraph/prompt_chaining.ipynb\" target=\"_parent\"><img src=\"https://colab.research.google.com/assets/colab-badge.svg\" alt=\"Open In Colab\"/></a>"
      ]
    },
    {
      "cell_type": "code",
      "metadata": {
        "id": "37be808b"
      },
      "source": [
        "# %pip install langchain_openai"
      ],
      "id": "37be808b",
      "execution_count": 2,
      "outputs": []
    },
    {
      "cell_type": "code",
      "metadata": {
        "id": "313f6e58"
      },
      "source": [
        "# %pip install langgraph"
      ],
      "id": "313f6e58",
      "execution_count": 3,
      "outputs": []
    },
    {
      "cell_type": "code",
      "execution_count": 1,
      "id": "c314bf43",
      "metadata": {
        "id": "c314bf43"
      },
      "outputs": [],
      "source": [
        "# Import necessary libraries for building the LangGraph application\n",
        "from langgraph.graph import StateGraph, START, END\n",
        "from langchain_openai import ChatOpenAI\n",
        "from typing import TypedDict\n",
        "# from dotenv import load_dotenv\n",
        "# load_dotenv()"
      ]
    },
    {
      "cell_type": "code",
      "execution_count": null,
      "id": "6e664833",
      "metadata": {
        "id": "6e664833"
      },
      "outputs": [],
      "source": [
        "# Initialize the HuggingFace model (commented out)\n",
        "# llm = HuggingFaceEndpoint(\n",
        "#     repo_id='meta-llama/Llama-3.1-8B-Instruct',\n",
        "#     task=\"text-generation\")\n",
        "# model = ChatHuggingFace(llm=llm)"
      ]
    },
    {
      "cell_type": "code",
      "source": [
        "# Load the OpenAI API key from the secrets manager\n",
        "from google.colab import userdata\n",
        "OPENAI_API_KEY = userdata.get('OPENAI_API_KEY')\n",
        "\n",
        "# Initialize the ChatOpenAI model\n",
        "model = ChatOpenAI(openai_api_key=OPENAI_API_KEY)"
      ],
      "metadata": {
        "id": "4jdWYGEdRRHU"
      },
      "id": "4jdWYGEdRRHU",
      "execution_count": 4,
      "outputs": []
    },
    {
      "cell_type": "code",
      "execution_count": 5,
      "id": "52193461",
      "metadata": {
        "id": "52193461"
      },
      "outputs": [],
      "source": [
        "# Define the state for the blog generation workflow\n",
        "class BlogState(TypedDict):\n",
        "    title: str\n",
        "    outline: str\n",
        "    content: str"
      ]
    },
    {
      "cell_type": "code",
      "execution_count": 6,
      "id": "719d6ef0",
      "metadata": {
        "id": "719d6ef0"
      },
      "outputs": [],
      "source": [
        "# Define the function to create the blog outline\n",
        "def create_outline(state: BlogState) -> BlogState:\n",
        "\n",
        "    title = state[\"title\"]\n",
        "\n",
        "    prompt = f'Generate a detailed outline for a blog on the topic - {title}'\n",
        "    outline = model.invoke(prompt).content\n",
        "\n",
        "    state[\"outline\"] = outline\n",
        "    return state"
      ]
    },
    {
      "cell_type": "code",
      "execution_count": 7,
      "id": "40b4e1b3",
      "metadata": {
        "id": "40b4e1b3"
      },
      "outputs": [],
      "source": [
        "# Define the function to create the blog content\n",
        "def create_blog(state: BlogState) -> BlogState:\n",
        "\n",
        "    title = state[\"title\"]\n",
        "    outline = state[\"outline\"]\n",
        "\n",
        "    prompt = f\"Write a detailed blog on the title - '{title}' Using the following outline:\\n{outline}\"\n",
        "    content = model.invoke(prompt).content\n",
        "\n",
        "    state[\"content\"] = content\n",
        "    return state"
      ]
    },
    {
      "cell_type": "code",
      "execution_count": 8,
      "id": "636439d4",
      "metadata": {
        "id": "636439d4"
      },
      "outputs": [],
      "source": [
        "# Build the LangGraph workflow\n",
        "graph = StateGraph(BlogState)\n",
        "\n",
        "# nodes\n",
        "graph.add_node('create_outline', create_outline)\n",
        "graph.add_node('create_blog', create_blog)\n",
        "\n",
        "# edges\n",
        "graph.add_edge(START, 'create_outline')\n",
        "graph.add_edge('create_outline', 'create_blog')\n",
        "graph.add_edge('create_blog', END)\n",
        "\n",
        "workflow = graph.compile()"
      ]
    },
    {
      "cell_type": "code",
      "execution_count": 9,
      "id": "dacbfb70",
      "metadata": {
        "colab": {
          "base_uri": "https://localhost:8080/",
          "height": 350
        },
        "id": "dacbfb70",
        "outputId": "fc1dc60b-565b-474f-e829-503338738fe5"
      },
      "outputs": [
        {
          "output_type": "execute_result",
          "data": {
            "text/plain": [
              "<langgraph.graph.state.CompiledStateGraph object at 0x7ac623e184d0>"
            ],
            "image/png": "[encoded data removed]"
          },
          "metadata": {},
          "execution_count": 9
        }
      ],
      "source": [
        "workflow"
      ]
    },
    {
      "cell_type": "code",
      "execution_count": 10,
      "id": "7b8a8bc1",
      "metadata": {
        "colab": {
          "base_uri": "https://localhost:8080/"
        },
        "id": "7b8a8bc1",
        "outputId": "e9a33caa-b9e5-4158-9afa-639aa602e2e6"
      },
      "outputs": [
        {
          "output_type": "stream",
          "name": "stdout",
          "text": [
            "{'title': 'Rise of AI in UK', 'outline': 'I. Introduction\\n    A. Definition of AI\\n    B. Overview of AI technology\\n    C. Importance of AI in daily life\\n\\nII. History of AI in the UK\\n    A. Early developments in AI technology\\n    B. Adoption of AI in various industries\\n    C. Government initiatives in promoting AI research and development\\n\\nIII. Current state of AI in the UK\\n    A. Growth of AI companies and startups\\n    B. Impact of AI on the workforce\\n    C. Ethical considerations regarding AI usage\\n\\nIV. Key applications of AI in the UK\\n    A. Healthcare\\n    B. Finance\\n    C. Transportation\\n    D. Retail\\n    E. Education\\n\\nV. Challenges and opportunities in the rise of AI in the UK\\n    A. Data privacy concerns\\n    B. Skills gap in AI talent\\n    C. Potential for economic growth\\n    D. Risks of job displacement\\n\\nVI. Future outlook for AI in the UK\\n    A. Predictions for AI advancements\\n    B. Role of government in regulating AI technology\\n    C. Potential benefits for society\\n\\nVII. Conclusion\\n    A. Recap of key points\\n    B. Importance of embracing AI technology for future development\\n    C. Call to action for continued research and innovation in AI', 'content': 'I. Introduction\\n\\nA. Definition of AI\\nArtificial Intelligence (AI) refers to the simulation of human intelligence processes by machines, especially computer systems. These processes include learning, reasoning, problem-solving, perception, and speech recognition.\\n\\nB. Overview of AI technology\\nAI technology encompasses machine learning, natural language processing, robotics, expert systems, and computer vision, among other fields. It enables machines to replicate cognitive functions typically associated with human intelligence.\\n\\nC. Importance of AI in daily life\\nAI has become integral to modern society, with applications ranging from virtual assistants like Siri and Alexa to self-driving cars and medical diagnosis systems. It has the potential to revolutionize various industries and enhance efficiency and convenience in daily life.\\n\\nII. History of AI in the UK\\n\\nA. Early developments in AI technology\\nThe UK has a rich history in AI research, with pioneers such as Alan Turing laying the foundation for modern AI. In the 1980s, the UK established several AI research centers like the Imperial College London and the University of Edinburgh.\\n\\nB. Adoption of AI in various industries\\nIn recent years, the UK has seen widespread adoption of AI technology across industries such as healthcare, finance, transportation, retail, and education. Companies in the UK are increasingly leveraging AI solutions to improve operations, enhance customer service, and drive innovation.\\n\\nC. Government initiatives in promoting AI research and development\\nThe UK government has made significant investments in promoting AI research and development, with initiatives like the AI Sector Deal and the Office for AI. These efforts aim to position the UK as a global leader in AI innovation and drive economic growth.\\n\\nIII. Current state of AI in the UK\\n\\nA. Growth of AI companies and startups\\nThe UK has seen a surge in AI companies and startups in recent years, with London emerging as a hub for AI innovation. These companies are developing cutting-edge AI solutions in various domains, from healthcare to finance to cybersecurity.\\n\\nB. Impact of AI on the workforce\\nThe rise of AI has raised concerns about the impact on the workforce, with fears of job displacement and the need for upskilling. However, AI also presents opportunities for new job creation and increased productivity in the UK economy.\\n\\nC. Ethical considerations regarding AI usage\\nAs AI technology becomes more pervasive, the UK faces ethical considerations around data privacy, bias in algorithms, and accountability in AI decision-making. It is crucial for policymakers and industry stakeholders to address these ethical challenges in AI development and deployment.\\n\\nIV. Key applications of AI in the UK\\n\\nA. Healthcare\\nAI is revolutionizing healthcare in the UK, with applications like predictive analytics, medical imaging analysis, and personalized medicine. AI-powered tools can help healthcare professionals deliver more accurate diagnoses, improve patient outcomes, and streamline healthcare delivery.\\n\\nB. Finance\\nIn the finance sector, AI is being used to enhance fraud detection, risk management, and customer service. AI algorithms can analyze vast amounts of financial data in real-time, enabling financial institutions in the UK to make more informed decisions and reduce operational risks.\\n\\nC. Transportation\\nAI is at the forefront of transforming transportation in the UK, with the development of autonomous vehicles, traffic management systems, and smart transportation infrastructure. AI technologies have the potential to improve road safety, reduce congestion, and optimize transportation networks in the UK.\\n\\nD. Retail\\nAI is reshaping the retail industry in the UK, with applications like personalized recommendations, inventory optimization, and customer segmentation. AI-powered solutions can help retailers enhance the shopping experience, drive sales, and gain insights into consumer behavior.\\n\\nE. Education\\nAI is also making its mark in the education sector in the UK, with applications like adaptive learning platforms, virtual tutors, and automated grading systems. AI technology can personalize learning experiences, assist educators in lesson planning, and improve educational outcomes for students.\\n\\nV. Challenges and opportunities in the rise of AI in the UK\\n\\nA. Data privacy concerns\\nThe proliferation of AI technology in the UK raises concerns about data privacy and security. It is crucial for organizations to protect sensitive data and ensure transparency in AI algorithms to build trust with consumers and stakeholders.\\n\\nB. Skills gap in AI talent\\nThe UK faces a skills gap in AI talent, with the demand for AI professionals surpassing the supply. It is essential for the UK to invest in AI education and training programs to develop a workforce with the necessary skills to drive AI innovation and adoption.\\n\\nC. Potential for economic growth\\nAI presents significant opportunities for economic growth in the UK, with the potential to create new jobs, drive innovation, and boost productivity. By investing in AI research and development, the UK can position itself as a global leader in AI technology and gain a competitive edge in the global market.\\n\\nD. Risks of job displacement\\nOne of the key challenges of AI adoption in the UK is the risk of job displacement due to automation. It is crucial for policymakers and industry stakeholders to address the impact of AI on the workforce and develop strategies to retrain and upskill workers for the jobs of the future.\\n\\nVI. Future outlook for AI in the UK\\n\\nA. Predictions for AI advancements\\nThe future of AI in the UK looks promising, with advancements in areas like deep learning, reinforcement learning, and natural language processing. AI is expected to continue evolving and expanding its applications across industries, driving innovation and transforming the way we live and work.\\n\\nB. Role of government in regulating AI technology\\nAs AI technology becomes more pervasive, the UK government plays a crucial role in regulating AI to ensure ethical and responsible usage. It is essential for policymakers to establish guidelines and standards for AI development, deployment, and governance to mitigate risks and ensure the benefits of AI technology.\\n\\nC. Potential benefits for society\\nAI has the potential to deliver significant benefits for society in the UK, from improving healthcare outcomes to optimizing transportation systems to enhancing education opportunities. By embracing AI technology responsibly and ethically, the UK can harness the transformative power of AI to create a better future for all.\\n\\nVII. Conclusion\\n\\nA. Recap of key points\\nThe rise of AI in the UK represents a significant opportunity for innovation, economic growth, and societal progress. AI technology has the potential to revolutionize various industries, improve efficiency, and enhance quality of life for individuals in the UK.\\n\\nB. Importance of embracing AI technology for future development\\nIt is crucial for the UK to embrace AI technology and invest in AI research and development to stay competitive in the global landscape. By fostering a culture of AI innovation and collaboration, the UK can harness the full potential of AI to drive economic growth and societal advancement.\\n\\nC. Call to action for continued research and innovation in AI\\nAs AI technology continues to advance, it is essential for stakeholders in the UK to prioritize research and innovation in AI. By supporting AI initiatives, investing in AI education, and fostering a collaborative environment for AI development, the UK can position itself as a leader in AI innovation and shape a future powered by intelligent machines.'}\n"
          ]
        }
      ],
      "source": [
        "# Invoke the workflow with an initial state and print the final state\n",
        "intial_state = {'title': 'Rise of AI in UK'}\n",
        "\n",
        "final_state = workflow.invoke(intial_state)\n",
        "\n",
        "print(final_state)"
      ]
    }
  ],
  "metadata": {
    "kernelspec": {
      "display_name": ".venv (3.13.6)",
      "language": "python",
      "name": "python3"
    },
    "language_info": {
      "codemirror_mode": {
        "name": "ipython",
        "version": 3
      },
      "file_extension": ".py",
      "mimetype": "text/x-python",
      "name": "python",
      "nbconvert_exporter": "python",
      "pygments_lexer": "ipython3",
      "version": "3.13.6"
    },
    "colab": {
      "provenance": [],
      "include_colab_link": true
    }
  },
  "nbformat": 4,
  "nbformat_minor": 5
}