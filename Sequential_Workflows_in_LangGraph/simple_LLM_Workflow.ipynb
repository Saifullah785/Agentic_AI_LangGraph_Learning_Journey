{
 "cells": [
  {
   "cell_type": "code",
   "execution_count": 59,
   "id": "a1e6c9af",
   "metadata": {},
   "outputs": [
    {
     "data": {
      "text/plain": [
       "True"
      ]
     },
     "execution_count": 59,
     "metadata": {},
     "output_type": "execute_result"
    }
   ],
   "source": [
    "from langgraph.graph import StateGraph, START, END\n",
    "from langchain_huggingface import ChatHuggingFace, HuggingFaceEndpoint\n",
    "from typing import TypedDict\n",
    "from dotenv import load_dotenv\n",
    "import os\n",
    "load_dotenv()\n"
   ]
  },
  {
   "cell_type": "code",
   "execution_count": 3,
   "id": "fa0ad568",
   "metadata": {},
   "outputs": [],
   "source": [
    "# ! pip install langchain-huggingface"
   ]
  },
  {
   "cell_type": "code",
   "execution_count": 65,
   "id": "be1624cd",
   "metadata": {},
   "outputs": [],
   "source": [
    "# Initialize the HuggingFaceEndpoint with the Meta-Llama model for text generation.\n",
    "\n",
    "llm = HuggingFaceEndpoint(\n",
    "    # repo_id = \"meta-llama/Meta-Llama-3-8B-Instruct\",\n",
    "    repo_id = 'meta-llama/Llama-4-Scout-17B-16E-Instruct',\n",
    "    # repo_id = \"google/gemma-2b-it\"\n",
    "    task = 'text-generation'\n",
    ")\n",
    "\n",
    "# Wrap the endpoint in a ChatHuggingFace object for chat-style interaction.\n",
    "model = ChatHuggingFace(llm=llm)"
   ]
  },
  {
   "cell_type": "code",
   "execution_count": 66,
   "id": "0f4dedae",
   "metadata": {},
   "outputs": [],
   "source": [
    "# create a state\n",
    "class LLMState(TypedDict):\n",
    "    question: str\n",
    "    answer: str"
   ]
  },
  {
   "cell_type": "code",
   "execution_count": 67,
   "id": "7618cc63",
   "metadata": {},
   "outputs": [],
   "source": [
    "def llm_qa(state: LLMState) -> LLMState:\n",
    "\n",
    "    question = state['question']\n",
    "\n",
    "    prompt = f\"Answer the question: {question}\"\n",
    "\n",
    "    answer = model.invoke(prompt).content\n",
    "\n",
    "    state['answer'] = answer\n",
    "\n",
    "    return state"
   ]
  },
  {
   "cell_type": "code",
   "execution_count": 68,
   "id": "d44e1129",
   "metadata": {},
   "outputs": [],
   "source": [
    "# Create our Graph\n",
    "\n",
    "graph = StateGraph(LLMState)\n",
    "\n",
    "# add nodes and edges\n",
    "graph.add_node('llm_qa', llm_qa)\n",
    "\n",
    "graph.add_edge(START, 'llm_qa')\n",
    "graph.add_edge('llm_qa', END)\n",
    "\n",
    "# compile\n",
    "workflow = graph.compile()"
   ]
  },
  {
   "cell_type": "code",
   "execution_count": null,
   "id": "9fe5e178",
   "metadata": {},
   "outputs": [],
   "source": [
    "# execute\n",
    "\n",
    "intial_state = {'question': 'why people mindset is distracted Not growing in life?'}\n",
    "\n",
    "final_state = workflow.invoke(intial_state)\n",
    "\n",
    "print(final_state['answer'])"
   ]
  },
  {
   "cell_type": "code",
   "execution_count": null,
   "id": "f0058b3e",
   "metadata": {},
   "outputs": [],
   "source": [
    "model.invoke(\"What is the meaning of life?\").content"
   ]
  }
 ],
 "metadata": {
  "kernelspec": {
   "display_name": "myenv (3.13.6)",
   "language": "python",
   "name": "python3"
  },
  "language_info": {
   "codemirror_mode": {
    "name": "ipython",
    "version": 3
   },
   "file_extension": ".py",
   "mimetype": "text/x-python",
   "name": "python",
   "nbconvert_exporter": "python",
   "pygments_lexer": "ipython3",
   "version": "3.13.6"
  }
 },
 "nbformat": 4,
 "nbformat_minor": 5
}
