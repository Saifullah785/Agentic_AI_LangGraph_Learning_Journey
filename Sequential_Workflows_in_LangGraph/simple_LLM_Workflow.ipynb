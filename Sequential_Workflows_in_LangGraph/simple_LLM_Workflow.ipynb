{
  "cells": [
    {
      "cell_type": "markdown",
      "metadata": {
        "id": "view-in-github",
        "colab_type": "text"
      },
      "source": [
        "<a href=\"https://colab.research.google.com/github/Saifullah785/Agentic_AI_LangGraph_Learning_Journey/blob/main/Sequential_Workflows_in_LangGraph/simple_LLM_Workflow.ipynb\" target=\"_parent\"><img src=\"https://colab.research.google.com/assets/colab-badge.svg\" alt=\"Open In Colab\"/></a>"
      ]
    },
    {
      "cell_type": "code",
      "execution_count": null,
      "id": "a1e6c9af",
      "metadata": {
        "id": "a1e6c9af",
        "outputId": "84e1fc03-2acb-4b23-d697-80d355cdafc8"
      },
      "outputs": [
        {
          "data": {
            "text/plain": [
              "True"
            ]
          },
          "execution_count": 59,
          "metadata": {},
          "output_type": "execute_result"
        }
      ],
      "source": [
        "# Import necessary libraries\n",
        "from langgraph.graph import StateGraph, START, END\n",
        "from langchain_huggingface import ChatHuggingFace, HuggingFaceEndpoint\n",
        "from typing import TypedDict\n",
        "from dotenv import load_dotenv\n",
        "import os\n",
        "load_dotenv()"
      ]
    },
    {
      "cell_type": "code",
      "execution_count": null,
      "id": "fa0ad568",
      "metadata": {
        "id": "fa0ad568"
      },
      "outputs": [],
      "source": [
        "# Install langchain-huggingface library\n",
        "# ! pip install langchain-huggingface"
      ]
    },
    {
      "cell_type": "code",
      "execution_count": null,
      "id": "be1624cd",
      "metadata": {
        "id": "be1624cd"
      },
      "outputs": [],
      "source": [
        "# Initialize HuggingFace Endpoint and Chat Model\n",
        "# Initialize the HuggingFaceEndpoint with the Meta-Llama model for text generation.\n",
        "\n",
        "llm = HuggingFaceEndpoint(\n",
        "    # repo_id = \"meta-llama/Meta-Llama-3-8B-Instruct\",\n",
        "    repo_id = 'meta-llama/Llama-4-Scout-17B-16E-Instruct',\n",
        "    # repo_id = \"google/gemma-2b-it\"\n",
        "    task = 'text-generation'\n",
        ")\n",
        "\n",
        "# Wrap the endpoint in a ChatHuggingFace object for chat-style interaction.\n",
        "model = ChatHuggingFace(llm=llm)"
      ]
    },
    {
      "cell_type": "code",
      "execution_count": null,
      "id": "0f4dedae",
      "metadata": {
        "id": "0f4dedae"
      },
      "outputs": [],
      "source": [
        "# Define the state structure for the graph\n",
        "# create a state\n",
        "class LLMState(TypedDict):\n",
        "    question: str\n",
        "    answer: str"
      ]
    },
    {
      "cell_type": "code",
      "execution_count": null,
      "id": "7618cc63",
      "metadata": {
        "id": "7618cc63"
      },
      "outputs": [],
      "source": [
        "# Define the LLM question answering node\n",
        "def llm_qa(state: LLMState) -> LLMState:\n",
        "\n",
        "    question = state['question']\n",
        "\n",
        "    prompt = f\"Answer the question: {question}\"\n",
        "\n",
        "    answer = model.invoke(prompt).content\n",
        "\n",
        "    state['answer'] = answer\n",
        "\n",
        "    return state"
      ]
    },
    {
      "cell_type": "code",
      "execution_count": null,
      "id": "d44e1129",
      "metadata": {
        "id": "d44e1129"
      },
      "outputs": [],
      "source": [
        "# Create and compile the StateGraph\n",
        "# Create our Graph\n",
        "\n",
        "graph = StateGraph(LLMState)\n",
        "\n",
        "# add nodes and edges\n",
        "graph.add_node('llm_qa', llm_qa)\n",
        "\n",
        "graph.add_edge(START, 'llm_qa')\n",
        "graph.add_edge('llm_qa', END)\n",
        "\n",
        "# compile\n",
        "workflow = graph.compile()"
      ]
    },
    {
      "cell_type": "code",
      "execution_count": null,
      "id": "9fe5e178",
      "metadata": {
        "id": "9fe5e178"
      },
      "outputs": [],
      "source": [
        "# Execute the workflow with an initial question\n",
        "# execute\n",
        "\n",
        "intial_state = {'question': 'why people mindset is distracted Not growing in life?'}\n",
        "\n",
        "final_state = workflow.invoke(intial_state)\n",
        "\n",
        "print(final_state['answer'])"
      ]
    },
    {
      "cell_type": "code",
      "execution_count": null,
      "id": "f0058b3e",
      "metadata": {
        "id": "f0058b3e"
      },
      "outputs": [],
      "source": [
        "# Example of invoking the model directly\n",
        "model.invoke(\"What is the meaning of life?\").content"
      ]
    }
  ],
  "metadata": {
    "kernelspec": {
      "display_name": "myenv (3.13.6)",
      "language": "python",
      "name": "python3"
    },
    "language_info": {
      "codemirror_mode": {
        "name": "ipython",
        "version": 3
      },
      "file_extension": ".py",
      "mimetype": "text/x-python",
      "name": "python",
      "nbconvert_exporter": "python",
      "pygments_lexer": "ipython3",
      "version": "3.13.6"
    },
    "colab": {
      "provenance": [],
      "include_colab_link": true
    }
  },
  "nbformat": 4,
  "nbformat_minor": 5
}