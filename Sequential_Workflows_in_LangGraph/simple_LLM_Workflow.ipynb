{
  "cells": [
    {
      "cell_type": "markdown",
      "metadata": {
        "id": "view-in-github",
        "colab_type": "text"
      },
      "source": [
        "<a href=\"https://colab.research.google.com/github/Saifullah785/Agentic_AI_LangGraph_Learning_Journey/blob/main/Sequential_Workflows_in_LangGraph/simple_LLM_Workflow.ipynb\" target=\"_parent\"><img src=\"https://colab.research.google.com/assets/colab-badge.svg\" alt=\"Open In Colab\"/></a>"
      ]
    },
    {
      "cell_type": "code",
      "metadata": {
        "id": "40e07239"
      },
      "source": [
        "#!pip install langgraph langchain_openai langchain_community"
      ],
      "id": "40e07239",
      "execution_count": 1,
      "outputs": []
    },
    {
      "cell_type": "code",
      "execution_count": 12,
      "id": "a1e6c9af",
      "metadata": {
        "id": "a1e6c9af"
      },
      "outputs": [],
      "source": [
        "# Import necessary libraries\n",
        "from langgraph.graph import StateGraph, START, END\n",
        "from langchain.chat_models import ChatOpenAI # This line was added\n",
        "from typing import TypedDict\n",
        "import os\n"
      ]
    },
    {
      "cell_type": "code",
      "source": [
        "# Load the OpenAI API key from the secrets manager\n",
        "from google.colab import userdata\n",
        "OPENAI_API_KEY = userdata.get('OPENAI_API_KEY')\n",
        "\n",
        "# Initialize the ChatOpenAI model\n",
        "model = ChatOpenAI(openai_api_key=OPENAI_API_KEY)"
      ],
      "metadata": {
        "id": "rxf_tp6Wdwl2"
      },
      "id": "rxf_tp6Wdwl2",
      "execution_count": 13,
      "outputs": []
    },
    {
      "cell_type": "code",
      "execution_count": 4,
      "id": "0f4dedae",
      "metadata": {
        "id": "0f4dedae"
      },
      "outputs": [],
      "source": [
        "# Define the state structure for the graph\n",
        "# create a state\n",
        "class LLMState(TypedDict):\n",
        "    question: str\n",
        "    answer: str"
      ]
    },
    {
      "cell_type": "code",
      "execution_count": 5,
      "id": "7618cc63",
      "metadata": {
        "id": "7618cc63"
      },
      "outputs": [],
      "source": [
        "# Define the LLM question answering node\n",
        "def llm_qa(state: LLMState) -> LLMState:\n",
        "\n",
        "    question = state['question']\n",
        "\n",
        "    prompt = f\"Answer the question: {question}\"\n",
        "\n",
        "    answer = model.invoke(prompt).content\n",
        "\n",
        "    state['answer'] = answer\n",
        "\n",
        "    return state"
      ]
    },
    {
      "cell_type": "code",
      "execution_count": 6,
      "id": "d44e1129",
      "metadata": {
        "id": "d44e1129"
      },
      "outputs": [],
      "source": [
        "# Create and compile the StateGraph\n",
        "# Create our Graph\n",
        "\n",
        "graph = StateGraph(LLMState)\n",
        "\n",
        "# add nodes and edges\n",
        "graph.add_node('llm_qa', llm_qa)\n",
        "\n",
        "graph.add_edge(START, 'llm_qa')\n",
        "graph.add_edge('llm_qa', END)\n",
        "\n",
        "# compile\n",
        "workflow = graph.compile()"
      ]
    },
    {
      "cell_type": "code",
      "source": [
        "graph.compile()"
      ],
      "metadata": {
        "id": "xFcsDfUYfNoe",
        "outputId": "e7308f81-128f-4541-b715-79da0609b2fe",
        "colab": {
          "base_uri": "https://localhost:8080/",
          "height": 251
        }
      },
      "id": "xFcsDfUYfNoe",
      "execution_count": 8,
      "outputs": [
        {
          "output_type": "execute_result",
          "data": {
            "text/plain": [
              "<langgraph.graph.state.CompiledStateGraph object at 0x7f0b93dfa0c0>"
            ],
            "image/png": "[encoded data removed]"
          },
          "metadata": {},
          "execution_count": 8
        }
      ]
    },
    {
      "cell_type": "code",
      "execution_count": 9,
      "id": "9fe5e178",
      "metadata": {
        "id": "9fe5e178",
        "colab": {
          "base_uri": "https://localhost:8080/"
        },
        "outputId": "85705482-6785-4df8-bde3-297c54a51a05"
      },
      "outputs": [
        {
          "output_type": "stream",
          "name": "stdout",
          "text": [
            "There are several reasons why someone's mindset may be distracted and not growing in life. These reasons can include:\n",
            "\n",
            "1. Lack of focus and discipline: Without a clear sense of direction or goals, it can be easy to become distracted and lose motivation to grow and improve.\n",
            "\n",
            "2. Fear of failure or rejection: Some people may be afraid to take risks or step out of their comfort zone, which can hold them back from reaching their full potential.\n",
            "\n",
            "3. Negative self-talk and limiting beliefs: If someone constantly doubts themselves or believes they are not capable of success, it can hinder their growth and prevent them from taking the necessary steps to move forward.\n",
            "\n",
            "4. External influences: Surrounding oneself with negative or unsupportive people can also impact one's mindset and prevent them from growing in life.\n",
            "\n",
            "Overall, a distracted mindset can stem from a variety of internal and external factors that need to be addressed in order to foster personal growth and development.\n"
          ]
        }
      ],
      "source": [
        "# Execute the workflow with an initial question\n",
        "# execute\n",
        "\n",
        "intial_state = {'question': 'why people mindset is distracted Not growing in life?'}\n",
        "\n",
        "final_state = workflow.invoke(intial_state)\n",
        "\n",
        "print(final_state['answer'])"
      ]
    },
    {
      "cell_type": "code",
      "execution_count": 10,
      "id": "f0058b3e",
      "metadata": {
        "id": "f0058b3e",
        "colab": {
          "base_uri": "https://localhost:8080/",
          "height": 70
        },
        "outputId": "f05f4e71-f92d-4d82-dccd-37950869c42f"
      },
      "outputs": [
        {
          "output_type": "execute_result",
          "data": {
            "text/plain": [
              "'The meaning of life is a philosophical question that has been debated for centuries. Different people and cultures have different beliefs and perspectives on the meaning of life. Some believe that the meaning of life is to seek happiness and fulfillment, others believe it is to serve a higher power or follow a set of moral principles. Ultimately, the meaning of life is a deeply personal and subjective question that each individual must explore and define for themselves.'"
            ],
            "application/vnd.google.colaboratory.intrinsic+json": {
              "type": "string"
            }
          },
          "metadata": {},
          "execution_count": 10
        }
      ],
      "source": [
        "# Example of invoking the model directly\n",
        "model.invoke(\"What is the meaning of life?\").content"
      ]
    }
  ],
  "metadata": {
    "kernelspec": {
      "display_name": "myenv (3.13.6)",
      "language": "python",
      "name": "python3"
    },
    "language_info": {
      "codemirror_mode": {
        "name": "ipython",
        "version": 3
      },
      "file_extension": ".py",
      "mimetype": "text/x-python",
      "name": "python",
      "nbconvert_exporter": "python",
      "pygments_lexer": "ipython3",
      "version": "3.13.6"
    },
    "colab": {
      "provenance": [],
      "include_colab_link": true
    }
  },
  "nbformat": 4,
  "nbformat_minor": 5
}